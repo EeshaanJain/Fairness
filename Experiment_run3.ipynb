{
 "cells": [
  {
   "cell_type": "code",
   "execution_count": 1,
   "id": "13baee03",
   "metadata": {
    "tags": []
   },
   "outputs": [],
   "source": [
    "import numpy as np\n",
    "import utils\n",
    "import torch\n",
    "import pandas as pd\n",
    "import gpytorch\n",
    "\n",
    "from tqdm.notebook import tqdm\n",
    "from gpytorch.models import ExactGP\n",
    "from gpytorch.likelihoods import DirichletClassificationLikelihood\n",
    "from gpytorch.means import ConstantMean\n",
    "from gpytorch.kernels import ScaleKernel\n",
    "\n",
    "%load_ext autoreload\n",
    "%autoreload 2"
   ]
  },
  {
   "cell_type": "code",
   "execution_count": 2,
   "id": "df10c5c0-9309-421c-8601-4e2aee0a4167",
   "metadata": {
    "tags": []
   },
   "outputs": [
    {
     "name": "stdout",
     "output_type": "stream",
     "text": [
      "Thu Feb 16 21:01:13 2023       \n",
      "+-----------------------------------------------------------------------------+\n",
      "| NVIDIA-SMI 470.141.03   Driver Version: 470.141.03   CUDA Version: 11.4     |\n",
      "|-------------------------------+----------------------+----------------------+\n",
      "| GPU  Name        Persistence-M| Bus-Id        Disp.A | Volatile Uncorr. ECC |\n",
      "| Fan  Temp  Perf  Pwr:Usage/Cap|         Memory-Usage | GPU-Util  Compute M. |\n",
      "|                               |                      |               MIG M. |\n",
      "|===============================+======================+======================|\n",
      "|   0  NVIDIA RTX A6000    On   | 00000000:21:00.0 Off |                  Off |\n",
      "| 30%   38C    P8    24W / 300W |      3MiB / 48685MiB |      0%      Default |\n",
      "|                               |                      |                  N/A |\n",
      "+-------------------------------+----------------------+----------------------+\n",
      "|   1  NVIDIA RTX A6000    On   | 00000000:22:00.0 Off |                  Off |\n",
      "| 49%   63C    P8    23W / 300W |   3406MiB / 48685MiB |      0%      Default |\n",
      "|                               |                      |                  N/A |\n",
      "+-------------------------------+----------------------+----------------------+\n",
      "|   2  NVIDIA RTX A6000    On   | 00000000:23:00.0 Off |                  Off |\n",
      "| 30%   40C    P8    32W / 300W |      3MiB / 48685MiB |      0%      Default |\n",
      "|                               |                      |                  N/A |\n",
      "+-------------------------------+----------------------+----------------------+\n",
      "|   3  NVIDIA RTX A6000    On   | 00000000:24:00.0 Off |                  Off |\n",
      "| 54%   67C    P8    27W / 300W |   2504MiB / 48685MiB |      0%      Default |\n",
      "|                               |                      |                  N/A |\n",
      "+-------------------------------+----------------------+----------------------+\n",
      "                                                                               \n",
      "+-----------------------------------------------------------------------------+\n",
      "| Processes:                                                                  |\n",
      "|  GPU   GI   CI        PID   Type   Process name                  GPU Memory |\n",
      "|        ID   ID                                                   Usage      |\n",
      "|=============================================================================|\n",
      "|    1   N/A  N/A   2489831      C   python                           3403MiB |\n",
      "|    3   N/A  N/A   2489831      C   python                           2501MiB |\n",
      "+-----------------------------------------------------------------------------+\n"
     ]
    }
   ],
   "source": [
    "!nvidia-smi"
   ]
  },
  {
   "cell_type": "code",
   "execution_count": 3,
   "id": "1e0e42c3",
   "metadata": {
    "tags": []
   },
   "outputs": [],
   "source": [
    "device = torch.device(\"cuda:0\" if torch.cuda.is_available() else \"cpu\")"
   ]
  },
  {
   "cell_type": "code",
   "execution_count": 4,
   "id": "c5774c74-3b4a-46ce-9e04-0e66f33a5484",
   "metadata": {
    "tags": []
   },
   "outputs": [
    {
     "data": {
      "text/plain": [
       "device(type='cuda', index=0)"
      ]
     },
     "execution_count": 4,
     "metadata": {},
     "output_type": "execute_result"
    }
   ],
   "source": [
    "device"
   ]
  },
  {
   "cell_type": "code",
   "execution_count": 58,
   "id": "419930ac",
   "metadata": {
    "tags": []
   },
   "outputs": [],
   "source": [
    "class DirichletGPModel(ExactGP):\n",
    "    def __init__(self, train_x, train_y, likelihood, num_classes):\n",
    "        super(DirichletGPModel, self).__init__(train_x, train_y, likelihood)\n",
    "        self.mean_module = ConstantMean(batch_shape=torch.Size((num_classes,)))\n",
    "        self.covar_module = ScaleKernel(\n",
    "            gpytorch.kernels.RBFKernel(batch_shape=torch.Size((num_classes,))),\n",
    "            batch_shape=torch.Size((num_classes,)),\n",
    "        )\n",
    "\n",
    "    def forward(self, x):\n",
    "        mean_x = self.mean_module(x)\n",
    "        covar_x = self.covar_module(x)\n",
    "        return gpytorch.distributions.MultivariateNormal(mean_x, covar_x)\n",
    "\n",
    "def train(train_x, train_y, device):\n",
    "    likelihood = DirichletClassificationLikelihood(train_y, learn_additional_noise=True)\n",
    "    model = DirichletGPModel(train_x, likelihood.transformed_targets, likelihood, num_classes=likelihood.num_classes)\n",
    "    \n",
    "    model.to(device)\n",
    "    likelihood.to(device)\n",
    "    \n",
    "    training_iterations = 50\n",
    "    optimizer = torch.optim.Adam(model.parameters(), lr=0.1)\n",
    "    mll = gpytorch.mlls.ExactMarginalLogLikelihood(likelihood, model)\n",
    "\n",
    "    model.train()\n",
    "    likelihood.train()\n",
    "    \n",
    "    for i in tqdm(range(training_iterations)):\n",
    "        # Zero backprop gradients\n",
    "        optimizer.zero_grad()\n",
    "        # Get output from model\n",
    "        output = model(train_x)\n",
    "        # Calc loss and backprop derivatives\n",
    "        loss = -mll(output, train_y).sum()\n",
    "        loss.backward()\n",
    "        optimizer.step()\n",
    "    \n",
    "    return model.float(), likelihood.float()"
   ]
  },
  {
   "cell_type": "code",
   "execution_count": 59,
   "id": "6b387492",
   "metadata": {
    "tags": []
   },
   "outputs": [],
   "source": [
    "dfx, dfy, cols = utils.get_dataset('adult_income', return_dataframe=True)"
   ]
  },
  {
   "cell_type": "code",
   "execution_count": 60,
   "id": "9581b9b3-da68-4817-944c-02228ab08e6d",
   "metadata": {
    "tags": []
   },
   "outputs": [],
   "source": [
    "from sklearn.preprocessing import minmax_scale"
   ]
  },
  {
   "cell_type": "code",
   "execution_count": 61,
   "id": "253da5dd-d08f-448a-89cc-7f49bbfa7edf",
   "metadata": {
    "tags": []
   },
   "outputs": [],
   "source": [
    "minmax_separate = False"
   ]
  },
  {
   "cell_type": "code",
   "execution_count": 85,
   "id": "223a6870-276a-4949-8612-dffd8fc4b6af",
   "metadata": {
    "tags": []
   },
   "outputs": [],
   "source": [
    "if minmax_separate:\n",
    "    dfx_1 = dfx.loc[dfx.gender == 1]\n",
    "    dfx_0 = dfx.loc[dfx.gender == 0]\n",
    "    dfx_1[cols] = minmax_scale(dfx_1[cols])\n",
    "    dfx_0[cols] = minmax_scale(dfx_0[cols])\n",
    "else:\n",
    "    dfx[cols] = minmax_scale(dfx[cols])\n",
    "    dfx_1 = dfx.loc[dfx.gender == 1]\n",
    "    dfx_0 = dfx.loc[dfx.gender == 0]\n",
    "    dfy_1 = dfy.loc[dfx.gender == 1]\n",
    "    dfy_0 = dfy.loc[dfx.gender == 0]"
   ]
  },
  {
   "cell_type": "code",
   "execution_count": 86,
   "id": "2bdb04ca-f68f-4f06-a755-f5df14c49d8e",
   "metadata": {
    "tags": []
   },
   "outputs": [],
   "source": [
    "tensor_data_x0 = torch.tensor(dfx_0.values).to(device)\n",
    "tensor_data_y0 = torch.tensor(dfy_0.values).to(device)\n",
    "tensor_data_x1 = torch.tensor(dfx_1.values).to(device)\n",
    "tensor_data_y1 = torch.tensor(dfy_1.values).to(device)"
   ]
  },
  {
   "cell_type": "code",
   "execution_count": 87,
   "id": "8fd51e03-d2a7-4d69-b16b-1169407c835b",
   "metadata": {
    "tags": []
   },
   "outputs": [
    {
     "data": {
      "text/plain": [
       "torch.Size([31114, 102])"
      ]
     },
     "execution_count": 87,
     "metadata": {},
     "output_type": "execute_result"
    }
   ],
   "source": [
    "tensor_data_x0.shape"
   ]
  },
  {
   "cell_type": "code",
   "execution_count": 88,
   "id": "9a914b28-3d7e-4218-959a-25ecab5eda94",
   "metadata": {
    "tags": []
   },
   "outputs": [],
   "source": [
    "import utils"
   ]
  },
  {
   "cell_type": "code",
   "execution_count": 89,
   "id": "d0424a95-fba1-489a-b90e-8fde4b9a581a",
   "metadata": {
    "tags": []
   },
   "outputs": [],
   "source": [
    "warm_start_samples_0 = utils.sample_from_tensor(tensor_data_x0.shape[0], 500, device).long()\n",
    "warm_start_samples_1 = utils.sample_from_tensor(tensor_data_x1.shape[0], 500, device).long()"
   ]
  },
  {
   "cell_type": "code",
   "execution_count": 90,
   "id": "5a200bf3-f758-490e-8050-7744fc5c5748",
   "metadata": {
    "tags": []
   },
   "outputs": [],
   "source": [
    "non_warm_start_samples_0 = utils.complement_idx(warm_start_samples_0, tensor_data_x0.shape[0])\n",
    "non_warm_start_samples_1 = utils.complement_idx(warm_start_samples_1, tensor_data_x1.shape[0])"
   ]
  },
  {
   "cell_type": "code",
   "execution_count": 91,
   "id": "8444423c-75ae-47e7-8bf6-9dfa6d7f02c4",
   "metadata": {
    "tags": []
   },
   "outputs": [],
   "source": [
    "warm_start_x0, warm_start_y0 = tensor_data_x0[warm_start_samples_0], tensor_data_y0[warm_start_samples_0]\n",
    "warm_start_x1, warm_start_y1 = tensor_data_x1[warm_start_samples_1], tensor_data_y1[warm_start_samples_1]"
   ]
  },
  {
   "cell_type": "code",
   "execution_count": 92,
   "id": "db5b402f-40e6-4a66-a147-b3446e47814d",
   "metadata": {
    "tags": []
   },
   "outputs": [
    {
     "data": {
      "text/plain": [
       "tensor(0.2080, device='cuda:0')"
      ]
     },
     "execution_count": 92,
     "metadata": {},
     "output_type": "execute_result"
    }
   ],
   "source": [
    "warm_start_y0.float().mean() - warm_start_y1.float().mean()"
   ]
  },
  {
   "cell_type": "code",
   "execution_count": 93,
   "id": "451bc4b8-ff4d-491a-90a3-f2fa6efb877d",
   "metadata": {
    "tags": []
   },
   "outputs": [],
   "source": [
    "tensor_data_x0, tensor_data_y0 = tensor_data_x0[non_warm_start_samples_0], tensor_data_y0[non_warm_start_samples_0]\n",
    "tensor_data_x1, tensor_data_y1 = tensor_data_x1[non_warm_start_samples_1], tensor_data_y1[non_warm_start_samples_1]"
   ]
  },
  {
   "cell_type": "code",
   "execution_count": 94,
   "id": "778e918e",
   "metadata": {
    "tags": []
   },
   "outputs": [
    {
     "data": {
      "application/vnd.jupyter.widget-view+json": {
       "model_id": "8ead8eefd5fd4fe6ad9ce7d0dca99d66",
       "version_major": 2,
       "version_minor": 0
      },
      "text/plain": [
       "  0%|          | 0/50 [00:00<?, ?it/s]"
      ]
     },
     "metadata": {},
     "output_type": "display_data"
    },
    {
     "data": {
      "application/vnd.jupyter.widget-view+json": {
       "model_id": "131b142895ee456e9d1f91b3c1630c68",
       "version_major": 2,
       "version_minor": 0
      },
      "text/plain": [
       "  0%|          | 0/50 [00:00<?, ?it/s]"
      ]
     },
     "metadata": {},
     "output_type": "display_data"
    }
   ],
   "source": [
    "model0, likelihood0 = train(warm_start_x0, warm_start_y0, device)\n",
    "model1, likelihood1 = train(warm_start_x1, warm_start_y1, device)"
   ]
  },
  {
   "cell_type": "code",
   "execution_count": 95,
   "id": "70dfc7c3",
   "metadata": {
    "tags": []
   },
   "outputs": [],
   "source": [
    "model0.eval(), model1.eval(), likelihood0.eval(), likelihood1.eval();"
   ]
  },
  {
   "cell_type": "code",
   "execution_count": 96,
   "id": "9091e699",
   "metadata": {
    "tags": []
   },
   "outputs": [],
   "source": [
    "from vae_models import VanillaVAE as vae"
   ]
  },
  {
   "cell_type": "code",
   "execution_count": 97,
   "id": "a226a3c2",
   "metadata": {
    "tags": []
   },
   "outputs": [],
   "source": [
    "vae0 = vae()\n",
    "vae0.load_state_dict(torch.load(\"checkpoints/adult_income/vae_xA=0/best.pt\"))\n",
    "vae0.eval()\n",
    "vae0.to(device);"
   ]
  },
  {
   "cell_type": "code",
   "execution_count": 98,
   "id": "e0922ec0",
   "metadata": {
    "tags": []
   },
   "outputs": [],
   "source": [
    "vae1 = vae()\n",
    "vae1.load_state_dict(torch.load(\"checkpoints/adult_income/vae_xA=1/best.pt\"))\n",
    "vae1.eval()\n",
    "vae1.to(device);"
   ]
  },
  {
   "cell_type": "code",
   "execution_count": 99,
   "id": "1e759cd8",
   "metadata": {
    "tags": []
   },
   "outputs": [],
   "source": [
    "from blackbox_models import BlackBox"
   ]
  },
  {
   "cell_type": "code",
   "execution_count": 100,
   "id": "933d864a",
   "metadata": {
    "tags": []
   },
   "outputs": [],
   "source": [
    "blackbox = BlackBox('Logistic', 102, 1)\n",
    "blackbox.load_state_dict(torch.load(\"/mnt/infonas/data/eeshaan/fairness/EE492/checkpoints/adult_income/blackbox/Logistic/best.pt\"))\n",
    "blackbox.eval()\n",
    "blackbox.to(device);"
   ]
  },
  {
   "cell_type": "code",
   "execution_count": 101,
   "id": "110d7011-d622-4259-8915-3726eb47d70a",
   "metadata": {
    "tags": []
   },
   "outputs": [],
   "source": [
    "k_nearby_points = 100\n",
    "total_selection = 4000"
   ]
  },
  {
   "cell_type": "code",
   "execution_count": 102,
   "id": "60339dfc-42e6-4f5b-9f1a-c3f93f4b651b",
   "metadata": {
    "tags": []
   },
   "outputs": [
    {
     "data": {
      "text/plain": [
       "tensor(0.1990, device='cuda:0')"
      ]
     },
     "execution_count": 102,
     "metadata": {},
     "output_type": "execute_result"
    }
   ],
   "source": [
    "tensor_data_y0.float().mean() - tensor_data_y1.float().mean()"
   ]
  },
  {
   "cell_type": "code",
   "execution_count": null,
   "id": "8f05c603-abfd-4d31-b321-dd23d82354ed",
   "metadata": {
    "tags": []
   },
   "outputs": [],
   "source": []
  },
  {
   "cell_type": "code",
   "execution_count": null,
   "id": "c20b3f17-d53a-4238-adf5-45a6acefa979",
   "metadata": {},
   "outputs": [],
   "source": []
  },
  {
   "cell_type": "code",
   "execution_count": null,
   "id": "21fe1946-175b-47c8-b921-c97c12474770",
   "metadata": {},
   "outputs": [],
   "source": []
  },
  {
   "cell_type": "code",
   "execution_count": 103,
   "id": "68484591-e1d0-4675-b376-3303d545b1fc",
   "metadata": {
    "tags": []
   },
   "outputs": [
    {
     "data": {
      "text/plain": [
       "torch.float32"
      ]
     },
     "execution_count": 103,
     "metadata": {},
     "output_type": "execute_result"
    }
   ],
   "source": [
    "s = utils.sample_randomly_from_input_space('adult_income').to(device) \n",
    "s.dtype"
   ]
  },
  {
   "cell_type": "markdown",
   "id": "402c1f58-4496-491e-b328-d44050ae06f1",
   "metadata": {},
   "source": [
    "First point -> either sample from the first 1000 random points\n",
    "or sample from the input space\n",
    "\n",
    "Q = 5000\n",
    "Qi = 1000\n",
    "\n",
    "4000 <- (x' <- random)"
   ]
  },
  {
   "cell_type": "code",
   "execution_count": 109,
   "id": "a5974703-24c3-4d2f-bb0c-ffadeb7a8007",
   "metadata": {
    "tags": []
   },
   "outputs": [
    {
     "data": {
      "application/vnd.jupyter.widget-view+json": {
       "model_id": "9124fd9cfd394732806f4095ae85a058",
       "version_major": 2,
       "version_minor": 0
      },
      "text/plain": [
       "  0%|          | 0/5 [00:00<?, ?it/s]"
      ]
     },
     "metadata": {},
     "output_type": "display_data"
    },
    {
     "name": "stdout",
     "output_type": "stream",
     "text": [
      "tensor(-0.1215, device='cuda:0', grad_fn=<NegBackward0>)\n",
      "tensor(-0.1221, device='cuda:0', grad_fn=<NegBackward0>)\n",
      "tensor(-0.1221, device='cuda:0', grad_fn=<NegBackward0>)\n",
      "tensor(-0.1219, device='cuda:0', grad_fn=<NegBackward0>)\n",
      "tensor(-0.1208, device='cuda:0', grad_fn=<NegBackward0>)\n",
      "tensor(-0.1221, device='cuda:0', grad_fn=<NegBackward0>)\n",
      "tensor(-0.1214, device='cuda:0', grad_fn=<NegBackward0>)\n",
      "tensor(-0.1225, device='cuda:0', grad_fn=<NegBackward0>)\n",
      "tensor(-0.1215, device='cuda:0', grad_fn=<NegBackward0>)\n",
      "tensor(-0.1222, device='cuda:0', grad_fn=<NegBackward0>)\n",
      "tensor(-0.1210, device='cuda:0', grad_fn=<NegBackward0>)\n",
      "tensor(-0.1221, device='cuda:0', grad_fn=<NegBackward0>)\n",
      "tensor(-0.1222, device='cuda:0', grad_fn=<NegBackward0>)\n",
      "tensor(-0.1224, device='cuda:0', grad_fn=<NegBackward0>)\n",
      "tensor(-0.1205, device='cuda:0', grad_fn=<NegBackward0>)\n",
      "tensor(-0.1220, device='cuda:0', grad_fn=<NegBackward0>)\n",
      "tensor(-0.1220, device='cuda:0', grad_fn=<NegBackward0>)\n",
      "tensor(-0.1223, device='cuda:0', grad_fn=<NegBackward0>)\n",
      "tensor(-0.1212, device='cuda:0', grad_fn=<NegBackward0>)\n",
      "tensor(-0.1224, device='cuda:0', grad_fn=<NegBackward0>)\n",
      "tensor(-0.1209, device='cuda:0', grad_fn=<NegBackward0>)\n",
      "tensor(-0.1210, device='cuda:0', grad_fn=<NegBackward0>)\n",
      "tensor(-0.1227, device='cuda:0', grad_fn=<NegBackward0>)\n",
      "tensor(-0.1206, device='cuda:0', grad_fn=<NegBackward0>)\n",
      "tensor(-0.1214, device='cuda:0', grad_fn=<NegBackward0>)\n",
      "tensor(-0.1221, device='cuda:0', grad_fn=<NegBackward0>)\n",
      "tensor(-0.1229, device='cuda:0', grad_fn=<NegBackward0>)\n",
      "tensor(-0.1227, device='cuda:0', grad_fn=<NegBackward0>)\n",
      "tensor(-0.1213, device='cuda:0', grad_fn=<NegBackward0>)\n"
     ]
    },
    {
     "data": {
      "application/vnd.jupyter.widget-view+json": {
       "model_id": "92e69b94c9d64c60a55c831b7ba077f6",
       "version_major": 2,
       "version_minor": 0
      },
      "text/plain": [
       "  0%|          | 0/50 [00:00<?, ?it/s]"
      ]
     },
     "metadata": {},
     "output_type": "display_data"
    },
    {
     "name": "stdout",
     "output_type": "stream",
     "text": [
      "tensor(-0.0933, device='cuda:0', grad_fn=<NegBackward0>)\n",
      "tensor(-0.0936, device='cuda:0', grad_fn=<NegBackward0>)\n",
      "tensor(-0.0943, device='cuda:0', grad_fn=<NegBackward0>)\n",
      "tensor(-0.0933, device='cuda:0', grad_fn=<NegBackward0>)\n",
      "tensor(-0.0931, device='cuda:0', grad_fn=<NegBackward0>)\n",
      "tensor(-0.0932, device='cuda:0', grad_fn=<NegBackward0>)\n",
      "tensor(-0.0935, device='cuda:0', grad_fn=<NegBackward0>)\n",
      "tensor(-0.0934, device='cuda:0', grad_fn=<NegBackward0>)\n",
      "tensor(-0.0930, device='cuda:0', grad_fn=<NegBackward0>)\n",
      "tensor(-0.0932, device='cuda:0', grad_fn=<NegBackward0>)\n",
      "tensor(-0.0931, device='cuda:0', grad_fn=<NegBackward0>)\n",
      "tensor(-0.0930, device='cuda:0', grad_fn=<NegBackward0>)\n",
      "tensor(-0.0933, device='cuda:0', grad_fn=<NegBackward0>)\n",
      "tensor(-0.0936, device='cuda:0', grad_fn=<NegBackward0>)\n",
      "tensor(-0.0939, device='cuda:0', grad_fn=<NegBackward0>)\n",
      "tensor(-0.0934, device='cuda:0', grad_fn=<NegBackward0>)\n",
      "tensor(-0.0933, device='cuda:0', grad_fn=<NegBackward0>)\n",
      "tensor(-0.0931, device='cuda:0', grad_fn=<NegBackward0>)\n",
      "tensor(-0.0934, device='cuda:0', grad_fn=<NegBackward0>)\n",
      "tensor(-0.0944, device='cuda:0', grad_fn=<NegBackward0>)\n",
      "tensor(-0.0933, device='cuda:0', grad_fn=<NegBackward0>)\n",
      "tensor(-0.0931, device='cuda:0', grad_fn=<NegBackward0>)\n",
      "tensor(-0.0932, device='cuda:0', grad_fn=<NegBackward0>)\n",
      "tensor(-0.0930, device='cuda:0', grad_fn=<NegBackward0>)\n",
      "tensor(-0.0933, device='cuda:0', grad_fn=<NegBackward0>)\n",
      "tensor(-0.0936, device='cuda:0', grad_fn=<NegBackward0>)\n",
      "tensor(-0.0929, device='cuda:0', grad_fn=<NegBackward0>)\n",
      "tensor(-0.0938, device='cuda:0', grad_fn=<NegBackward0>)\n",
      "tensor(-0.0934, device='cuda:0', grad_fn=<NegBackward0>)\n"
     ]
    },
    {
     "data": {
      "application/vnd.jupyter.widget-view+json": {
       "model_id": "64bbf3e9179743f59c65a05a6aaa8920",
       "version_major": 2,
       "version_minor": 0
      },
      "text/plain": [
       "  0%|          | 0/50 [00:00<?, ?it/s]"
      ]
     },
     "metadata": {},
     "output_type": "display_data"
    },
    {
     "name": "stdout",
     "output_type": "stream",
     "text": [
      "tensor(-0.0986, device='cuda:0', grad_fn=<NegBackward0>)\n",
      "tensor(-0.0990, device='cuda:0', grad_fn=<NegBackward0>)\n",
      "tensor(-0.0986, device='cuda:0', grad_fn=<NegBackward0>)\n",
      "tensor(-0.0981, device='cuda:0', grad_fn=<NegBackward0>)\n",
      "tensor(-0.0983, device='cuda:0', grad_fn=<NegBackward0>)\n",
      "tensor(-0.0971, device='cuda:0', grad_fn=<NegBackward0>)\n",
      "tensor(-0.0977, device='cuda:0', grad_fn=<NegBackward0>)\n",
      "tensor(-0.0972, device='cuda:0', grad_fn=<NegBackward0>)\n",
      "tensor(-0.0977, device='cuda:0', grad_fn=<NegBackward0>)\n",
      "tensor(-0.0988, device='cuda:0', grad_fn=<NegBackward0>)\n",
      "tensor(-0.0977, device='cuda:0', grad_fn=<NegBackward0>)\n",
      "tensor(-0.0990, device='cuda:0', grad_fn=<NegBackward0>)\n",
      "tensor(-0.0983, device='cuda:0', grad_fn=<NegBackward0>)\n",
      "tensor(-0.0991, device='cuda:0', grad_fn=<NegBackward0>)\n",
      "tensor(-0.0976, device='cuda:0', grad_fn=<NegBackward0>)\n",
      "tensor(-0.0968, device='cuda:0', grad_fn=<NegBackward0>)\n",
      "tensor(-0.0975, device='cuda:0', grad_fn=<NegBackward0>)\n",
      "tensor(-0.0980, device='cuda:0', grad_fn=<NegBackward0>)\n",
      "tensor(-0.0984, device='cuda:0', grad_fn=<NegBackward0>)\n",
      "tensor(-0.0984, device='cuda:0', grad_fn=<NegBackward0>)\n",
      "tensor(-0.0988, device='cuda:0', grad_fn=<NegBackward0>)\n",
      "tensor(-0.0981, device='cuda:0', grad_fn=<NegBackward0>)\n",
      "tensor(-0.0972, device='cuda:0', grad_fn=<NegBackward0>)\n",
      "tensor(-0.0994, device='cuda:0', grad_fn=<NegBackward0>)\n",
      "tensor(-0.0987, device='cuda:0', grad_fn=<NegBackward0>)\n",
      "tensor(-0.0988, device='cuda:0', grad_fn=<NegBackward0>)\n",
      "tensor(-0.0986, device='cuda:0', grad_fn=<NegBackward0>)\n",
      "tensor(-0.0987, device='cuda:0', grad_fn=<NegBackward0>)\n",
      "tensor(-0.0992, device='cuda:0', grad_fn=<NegBackward0>)\n"
     ]
    },
    {
     "data": {
      "application/vnd.jupyter.widget-view+json": {
       "model_id": "9a5e274fb041492ba88f76b3a8b2713a",
       "version_major": 2,
       "version_minor": 0
      },
      "text/plain": [
       "  0%|          | 0/50 [00:00<?, ?it/s]"
      ]
     },
     "metadata": {},
     "output_type": "display_data"
    },
    {
     "name": "stdout",
     "output_type": "stream",
     "text": [
      "tensor(-0.0943, device='cuda:0', grad_fn=<NegBackward0>)\n",
      "tensor(-0.0945, device='cuda:0', grad_fn=<NegBackward0>)\n",
      "tensor(-0.0951, device='cuda:0', grad_fn=<NegBackward0>)\n",
      "tensor(-0.0935, device='cuda:0', grad_fn=<NegBackward0>)\n",
      "tensor(-0.0936, device='cuda:0', grad_fn=<NegBackward0>)\n",
      "tensor(-0.0946, device='cuda:0', grad_fn=<NegBackward0>)\n",
      "tensor(-0.0967, device='cuda:0', grad_fn=<NegBackward0>)\n",
      "tensor(-0.0945, device='cuda:0', grad_fn=<NegBackward0>)\n",
      "tensor(-0.0942, device='cuda:0', grad_fn=<NegBackward0>)\n",
      "tensor(-0.0954, device='cuda:0', grad_fn=<NegBackward0>)\n",
      "tensor(-0.0930, device='cuda:0', grad_fn=<NegBackward0>)\n",
      "tensor(-0.0947, device='cuda:0', grad_fn=<NegBackward0>)\n",
      "tensor(-0.0935, device='cuda:0', grad_fn=<NegBackward0>)\n",
      "tensor(-0.0918, device='cuda:0', grad_fn=<NegBackward0>)\n",
      "tensor(-0.0951, device='cuda:0', grad_fn=<NegBackward0>)\n",
      "tensor(-0.0950, device='cuda:0', grad_fn=<NegBackward0>)\n",
      "tensor(-0.0943, device='cuda:0', grad_fn=<NegBackward0>)\n",
      "tensor(-0.0921, device='cuda:0', grad_fn=<NegBackward0>)\n",
      "tensor(-0.0958, device='cuda:0', grad_fn=<NegBackward0>)\n",
      "tensor(-0.0945, device='cuda:0', grad_fn=<NegBackward0>)\n",
      "tensor(-0.0931, device='cuda:0', grad_fn=<NegBackward0>)\n",
      "tensor(-0.0953, device='cuda:0', grad_fn=<NegBackward0>)\n",
      "tensor(-0.0944, device='cuda:0', grad_fn=<NegBackward0>)\n",
      "tensor(-0.0941, device='cuda:0', grad_fn=<NegBackward0>)\n",
      "tensor(-0.0932, device='cuda:0', grad_fn=<NegBackward0>)\n",
      "tensor(-0.0953, device='cuda:0', grad_fn=<NegBackward0>)\n",
      "tensor(-0.0946, device='cuda:0', grad_fn=<NegBackward0>)\n",
      "tensor(-0.0939, device='cuda:0', grad_fn=<NegBackward0>)\n",
      "tensor(-0.0946, device='cuda:0', grad_fn=<NegBackward0>)\n"
     ]
    },
    {
     "data": {
      "application/vnd.jupyter.widget-view+json": {
       "model_id": "1290eef8133649ba91d71190d1b34634",
       "version_major": 2,
       "version_minor": 0
      },
      "text/plain": [
       "  0%|          | 0/50 [00:00<?, ?it/s]"
      ]
     },
     "metadata": {},
     "output_type": "display_data"
    },
    {
     "name": "stdout",
     "output_type": "stream",
     "text": [
      "tensor(-0.1030, device='cuda:0', grad_fn=<NegBackward0>)\n",
      "tensor(-0.1012, device='cuda:0', grad_fn=<NegBackward0>)\n",
      "tensor(-0.1011, device='cuda:0', grad_fn=<NegBackward0>)\n",
      "tensor(-0.1015, device='cuda:0', grad_fn=<NegBackward0>)\n",
      "tensor(-0.1017, device='cuda:0', grad_fn=<NegBackward0>)\n",
      "tensor(-0.1011, device='cuda:0', grad_fn=<NegBackward0>)\n",
      "tensor(-0.1020, device='cuda:0', grad_fn=<NegBackward0>)\n",
      "tensor(-0.1018, device='cuda:0', grad_fn=<NegBackward0>)\n",
      "tensor(-0.1004, device='cuda:0', grad_fn=<NegBackward0>)\n",
      "tensor(-0.1017, device='cuda:0', grad_fn=<NegBackward0>)\n",
      "tensor(-0.1026, device='cuda:0', grad_fn=<NegBackward0>)\n",
      "tensor(-0.1016, device='cuda:0', grad_fn=<NegBackward0>)\n",
      "tensor(-0.1014, device='cuda:0', grad_fn=<NegBackward0>)\n",
      "tensor(-0.1026, device='cuda:0', grad_fn=<NegBackward0>)\n",
      "tensor(-0.1014, device='cuda:0', grad_fn=<NegBackward0>)\n",
      "tensor(-0.1022, device='cuda:0', grad_fn=<NegBackward0>)\n",
      "tensor(-0.1017, device='cuda:0', grad_fn=<NegBackward0>)\n",
      "tensor(-0.1008, device='cuda:0', grad_fn=<NegBackward0>)\n",
      "tensor(-0.1021, device='cuda:0', grad_fn=<NegBackward0>)\n",
      "tensor(-0.1025, device='cuda:0', grad_fn=<NegBackward0>)\n",
      "tensor(-0.1018, device='cuda:0', grad_fn=<NegBackward0>)\n",
      "tensor(-0.1024, device='cuda:0', grad_fn=<NegBackward0>)\n",
      "tensor(-0.1025, device='cuda:0', grad_fn=<NegBackward0>)\n",
      "tensor(-0.1025, device='cuda:0', grad_fn=<NegBackward0>)\n",
      "tensor(-0.1029, device='cuda:0', grad_fn=<NegBackward0>)\n",
      "tensor(-0.1020, device='cuda:0', grad_fn=<NegBackward0>)\n",
      "tensor(-0.1027, device='cuda:0', grad_fn=<NegBackward0>)\n",
      "tensor(-0.1017, device='cuda:0', grad_fn=<NegBackward0>)\n",
      "tensor(-0.1021, device='cuda:0', grad_fn=<NegBackward0>)\n"
     ]
    },
    {
     "data": {
      "application/vnd.jupyter.widget-view+json": {
       "model_id": "9edf6d690a544d37881052f65c1f7b17",
       "version_major": 2,
       "version_minor": 0
      },
      "text/plain": [
       "  0%|          | 0/50 [00:00<?, ?it/s]"
      ]
     },
     "metadata": {},
     "output_type": "display_data"
    }
   ],
   "source": [
    "lambda_reg = 1.0\n",
    "neg_queried = warm_start_x0.clone()\n",
    "neg_labels = warm_start_y0.clone().unsqueeze(1)\n",
    "\n",
    "for epoch_outer in tqdm(range(5)):\n",
    "    s = utils.sample_randomly_from_input_space('adult_income').to(device) \n",
    "    \n",
    "    optimizer0 = torch.optim.AdamW((s,), lr=1e-5)\n",
    "    best_loss = 10e5\n",
    "    count = 0\n",
    "    losses = []\n",
    "    for epoch in range(1,30):\n",
    "        optimizer0.zero_grad()\n",
    "        x0_samples = utils.postprocess(\n",
    "            vae0.sample(s.to(device), 100, device).squeeze(1), 'adult_income').float()\n",
    "\n",
    "        var_term = likelihood0(model0(x0_samples)).variance.sum(axis=0).mean()\n",
    "        ll_term = 0 #- lambda_reg * ((s - x0_samples)**2).mean()\n",
    "        obj0 =  var_term + ll_term\n",
    "\n",
    "        loss = -obj0\n",
    "        print(loss)\n",
    "        loss.backward()\n",
    "        optimizer0.step()\n",
    "        if loss < best_loss:\n",
    "            best_loss = loss\n",
    "            count = 0\n",
    "            losses.append(loss)\n",
    "        else:\n",
    "            count += 1\n",
    "        if count  == 50:\n",
    "            break\n",
    "    q, tensor_data_x0, tensor_data_y0 = utils.query_nearby(s, tensor_data_x0, tensor_data_y0, k_nearby_points)\n",
    "    if epoch_outer == 0:\n",
    "        candidates = q\n",
    "    else:\n",
    "        candidates = torch.cat((candidates, q), dim=0)\n",
    "\n",
    "    \n",
    "    if epoch_outer % 1 == 0:\n",
    "        #new_vals = torch.concatenate(candidates)\n",
    "        new_queries = candidates.float()\n",
    "        new_labels = blackbox(new_queries)\n",
    "        neg_queried = torch.concatenate([neg_queried, new_queries])\n",
    "        neg_labels = torch.concatenate([neg_labels, (0.5*(torch.sign(new_labels - 0.5) + 1.0)).long().detach().clone()])\n",
    "        model0, likelihood0 = train(neg_queried.detach().clone(),neg_labels.flatten(), device)\n",
    "        model0.eval()\n",
    "        likelihood0.eval()"
   ]
  },
  {
   "cell_type": "code",
   "execution_count": 135,
   "id": "14bc51e0-1756-4f5a-a595-721de276b15b",
   "metadata": {
    "tags": []
   },
   "outputs": [
    {
     "data": {
      "text/plain": [
       "DirichletGPModel(\n",
       "  (likelihood): DirichletClassificationLikelihood(\n",
       "    (noise_covar): FixedGaussianNoise()\n",
       "    (second_noise_covar): HomoskedasticNoise(\n",
       "      (raw_noise_constraint): GreaterThan(1.000E-04)\n",
       "    )\n",
       "  )\n",
       "  (mean_module): ConstantMean()\n",
       "  (covar_module): ScaleKernel(\n",
       "    (base_kernel): RBFKernel(\n",
       "      (raw_lengthscale_constraint): Positive()\n",
       "    )\n",
       "    (raw_outputscale_constraint): Positive()\n",
       "  )\n",
       ")"
      ]
     },
     "execution_count": 135,
     "metadata": {},
     "output_type": "execute_result"
    }
   ],
   "source": [
    "model0"
   ]
  },
  {
   "cell_type": "code",
   "execution_count": 138,
   "id": "3af865ca-0c39-4fc7-a76f-59d882140cf5",
   "metadata": {
    "tags": []
   },
   "outputs": [
    {
     "name": "stdout",
     "output_type": "stream",
     "text": [
      "torch.float32\n",
      "torch.float32\n",
      "torch.float32\n",
      "torch.float32\n"
     ]
    }
   ],
   "source": [
    "for x in model0.parameters():\n",
    "    print(x.dtype)"
   ]
  },
  {
   "cell_type": "code",
   "execution_count": 139,
   "id": "7067fb30-3909-4a3e-bbf5-5f3a56d4c84f",
   "metadata": {
    "tags": []
   },
   "outputs": [
    {
     "ename": "RuntimeError",
     "evalue": "expected scalar type Float but found Double",
     "output_type": "error",
     "traceback": [
      "\u001b[0;31m---------------------------------------------------------------------------\u001b[0m",
      "\u001b[0;31mRuntimeError\u001b[0m                              Traceback (most recent call last)",
      "Cell \u001b[0;32mIn[139], line 1\u001b[0m\n\u001b[0;32m----> 1\u001b[0m \u001b[43mmodel0\u001b[49m\u001b[43m(\u001b[49m\u001b[43mx0_samples\u001b[49m\u001b[43m)\u001b[49m\n",
      "File \u001b[0;32m/mnt/infonas/data/eeshaan/fairness/elk_audit/lib/python3.9/site-packages/gpytorch/models/exact_gp.py:320\u001b[0m, in \u001b[0;36mExactGP.__call__\u001b[0;34m(self, *args, **kwargs)\u001b[0m\n\u001b[1;32m    318\u001b[0m \u001b[38;5;66;03m# Make the prediction\u001b[39;00m\n\u001b[1;32m    319\u001b[0m \u001b[38;5;28;01mwith\u001b[39;00m settings\u001b[38;5;241m.\u001b[39mcg_tolerance(settings\u001b[38;5;241m.\u001b[39meval_cg_tolerance\u001b[38;5;241m.\u001b[39mvalue()):\n\u001b[0;32m--> 320\u001b[0m     predictive_mean, predictive_covar \u001b[38;5;241m=\u001b[39m \u001b[38;5;28;43mself\u001b[39;49m\u001b[38;5;241;43m.\u001b[39;49m\u001b[43mprediction_strategy\u001b[49m\u001b[38;5;241;43m.\u001b[39;49m\u001b[43mexact_prediction\u001b[49m\u001b[43m(\u001b[49m\u001b[43mfull_mean\u001b[49m\u001b[43m,\u001b[49m\u001b[43m \u001b[49m\u001b[43mfull_covar\u001b[49m\u001b[43m)\u001b[49m\n\u001b[1;32m    322\u001b[0m \u001b[38;5;66;03m# Reshape predictive mean to match the appropriate event shape\u001b[39;00m\n\u001b[1;32m    323\u001b[0m predictive_mean \u001b[38;5;241m=\u001b[39m predictive_mean\u001b[38;5;241m.\u001b[39mview(\u001b[38;5;241m*\u001b[39mbatch_shape, \u001b[38;5;241m*\u001b[39mtest_shape)\u001b[38;5;241m.\u001b[39mcontiguous()\n",
      "File \u001b[0;32m/mnt/infonas/data/eeshaan/fairness/elk_audit/lib/python3.9/site-packages/gpytorch/models/exact_prediction_strategies.py:272\u001b[0m, in \u001b[0;36mDefaultPredictionStrategy.exact_prediction\u001b[0;34m(self, joint_mean, joint_covar)\u001b[0m\n\u001b[1;32m    268\u001b[0m     test_test_covar \u001b[38;5;241m=\u001b[39m joint_covar[\u001b[38;5;241m.\u001b[39m\u001b[38;5;241m.\u001b[39m\u001b[38;5;241m.\u001b[39m, \u001b[38;5;28mself\u001b[39m\u001b[38;5;241m.\u001b[39mnum_train :, \u001b[38;5;28mself\u001b[39m\u001b[38;5;241m.\u001b[39mnum_train :]\n\u001b[1;32m    269\u001b[0m     test_train_covar \u001b[38;5;241m=\u001b[39m joint_covar[\u001b[38;5;241m.\u001b[39m\u001b[38;5;241m.\u001b[39m\u001b[38;5;241m.\u001b[39m, \u001b[38;5;28mself\u001b[39m\u001b[38;5;241m.\u001b[39mnum_train :, : \u001b[38;5;28mself\u001b[39m\u001b[38;5;241m.\u001b[39mnum_train]\n\u001b[1;32m    271\u001b[0m \u001b[38;5;28;01mreturn\u001b[39;00m (\n\u001b[0;32m--> 272\u001b[0m     \u001b[38;5;28;43mself\u001b[39;49m\u001b[38;5;241;43m.\u001b[39;49m\u001b[43mexact_predictive_mean\u001b[49m\u001b[43m(\u001b[49m\u001b[43mtest_mean\u001b[49m\u001b[43m,\u001b[49m\u001b[43m \u001b[49m\u001b[43mtest_train_covar\u001b[49m\u001b[43m)\u001b[49m,\n\u001b[1;32m    273\u001b[0m     \u001b[38;5;28mself\u001b[39m\u001b[38;5;241m.\u001b[39mexact_predictive_covar(test_test_covar, test_train_covar),\n\u001b[1;32m    274\u001b[0m )\n",
      "File \u001b[0;32m/mnt/infonas/data/eeshaan/fairness/elk_audit/lib/python3.9/site-packages/gpytorch/models/exact_prediction_strategies.py:288\u001b[0m, in \u001b[0;36mDefaultPredictionStrategy.exact_predictive_mean\u001b[0;34m(self, test_mean, test_train_covar)\u001b[0m\n\u001b[1;32m    277\u001b[0m \u001b[38;5;250m\u001b[39m\u001b[38;5;124;03m\"\"\"\u001b[39;00m\n\u001b[1;32m    278\u001b[0m \u001b[38;5;124;03mComputes the posterior predictive covariance of a GP\u001b[39;00m\n\u001b[1;32m    279\u001b[0m \n\u001b[0;32m   (...)\u001b[0m\n\u001b[1;32m    283\u001b[0m \u001b[38;5;124;03m:return: The predictive posterior mean of the test points\u001b[39;00m\n\u001b[1;32m    284\u001b[0m \u001b[38;5;124;03m\"\"\"\u001b[39;00m\n\u001b[1;32m    285\u001b[0m \u001b[38;5;66;03m# NOTE TO FUTURE SELF:\u001b[39;00m\n\u001b[1;32m    286\u001b[0m \u001b[38;5;66;03m# You **cannot* use addmv here, because test_train_covar may not actually be a non lazy tensor even for an exact\u001b[39;00m\n\u001b[1;32m    287\u001b[0m \u001b[38;5;66;03m# GP, and using addmv requires you to to_dense test_train_covar, which is obviously a huge no-no!\u001b[39;00m\n\u001b[0;32m--> 288\u001b[0m res \u001b[38;5;241m=\u001b[39m (test_train_covar \u001b[38;5;241m@\u001b[39m \u001b[38;5;28;43mself\u001b[39;49m\u001b[38;5;241;43m.\u001b[39;49m\u001b[43mmean_cache\u001b[49m\u001b[38;5;241m.\u001b[39munsqueeze(\u001b[38;5;241m-\u001b[39m\u001b[38;5;241m1\u001b[39m))\u001b[38;5;241m.\u001b[39msqueeze(\u001b[38;5;241m-\u001b[39m\u001b[38;5;241m1\u001b[39m)\n\u001b[1;32m    289\u001b[0m res \u001b[38;5;241m=\u001b[39m res \u001b[38;5;241m+\u001b[39m test_mean\n\u001b[1;32m    291\u001b[0m \u001b[38;5;28;01mreturn\u001b[39;00m res\n",
      "File \u001b[0;32m/mnt/infonas/data/eeshaan/fairness/elk_audit/lib/python3.9/site-packages/gpytorch/utils/memoize.py:59\u001b[0m, in \u001b[0;36m_cached.<locals>.g\u001b[0;34m(self, *args, **kwargs)\u001b[0m\n\u001b[1;32m     57\u001b[0m kwargs_pkl \u001b[38;5;241m=\u001b[39m pickle\u001b[38;5;241m.\u001b[39mdumps(kwargs)\n\u001b[1;32m     58\u001b[0m \u001b[38;5;28;01mif\u001b[39;00m \u001b[38;5;129;01mnot\u001b[39;00m _is_in_cache(\u001b[38;5;28mself\u001b[39m, cache_name, \u001b[38;5;241m*\u001b[39margs, kwargs_pkl\u001b[38;5;241m=\u001b[39mkwargs_pkl):\n\u001b[0;32m---> 59\u001b[0m     \u001b[38;5;28;01mreturn\u001b[39;00m _add_to_cache(\u001b[38;5;28mself\u001b[39m, cache_name, \u001b[43mmethod\u001b[49m\u001b[43m(\u001b[49m\u001b[38;5;28;43mself\u001b[39;49m\u001b[43m,\u001b[49m\u001b[43m \u001b[49m\u001b[38;5;241;43m*\u001b[39;49m\u001b[43margs\u001b[49m\u001b[43m,\u001b[49m\u001b[43m \u001b[49m\u001b[38;5;241;43m*\u001b[39;49m\u001b[38;5;241;43m*\u001b[39;49m\u001b[43mkwargs\u001b[49m\u001b[43m)\u001b[49m, \u001b[38;5;241m*\u001b[39margs, kwargs_pkl\u001b[38;5;241m=\u001b[39mkwargs_pkl)\n\u001b[1;32m     60\u001b[0m \u001b[38;5;28;01mreturn\u001b[39;00m _get_from_cache(\u001b[38;5;28mself\u001b[39m, cache_name, \u001b[38;5;241m*\u001b[39margs, kwargs_pkl\u001b[38;5;241m=\u001b[39mkwargs_pkl)\n",
      "File \u001b[0;32m/mnt/infonas/data/eeshaan/fairness/elk_audit/lib/python3.9/site-packages/gpytorch/models/exact_prediction_strategies.py:239\u001b[0m, in \u001b[0;36mDefaultPredictionStrategy.mean_cache\u001b[0;34m(self)\u001b[0m\n\u001b[1;32m    236\u001b[0m train_mean, train_train_covar \u001b[38;5;241m=\u001b[39m mvn\u001b[38;5;241m.\u001b[39mloc, mvn\u001b[38;5;241m.\u001b[39mlazy_covariance_matrix\n\u001b[1;32m    238\u001b[0m train_labels_offset \u001b[38;5;241m=\u001b[39m (\u001b[38;5;28mself\u001b[39m\u001b[38;5;241m.\u001b[39mtrain_labels \u001b[38;5;241m-\u001b[39m train_mean)\u001b[38;5;241m.\u001b[39munsqueeze(\u001b[38;5;241m-\u001b[39m\u001b[38;5;241m1\u001b[39m)\n\u001b[0;32m--> 239\u001b[0m mean_cache \u001b[38;5;241m=\u001b[39m \u001b[43mtrain_train_covar\u001b[49m\u001b[38;5;241;43m.\u001b[39;49m\u001b[43mevaluate_kernel\u001b[49m\u001b[43m(\u001b[49m\u001b[43m)\u001b[49m\u001b[38;5;241;43m.\u001b[39;49m\u001b[43msolve\u001b[49m\u001b[43m(\u001b[49m\u001b[43mtrain_labels_offset\u001b[49m\u001b[43m)\u001b[49m\u001b[38;5;241m.\u001b[39msqueeze(\u001b[38;5;241m-\u001b[39m\u001b[38;5;241m1\u001b[39m)\n\u001b[1;32m    241\u001b[0m \u001b[38;5;28;01mif\u001b[39;00m settings\u001b[38;5;241m.\u001b[39mdetach_test_caches\u001b[38;5;241m.\u001b[39mon():\n\u001b[1;32m    242\u001b[0m     mean_cache \u001b[38;5;241m=\u001b[39m mean_cache\u001b[38;5;241m.\u001b[39mdetach()\n",
      "File \u001b[0;32m/mnt/infonas/data/eeshaan/fairness/elk_audit/lib/python3.9/site-packages/linear_operator/operators/_linear_operator.py:2205\u001b[0m, in \u001b[0;36mLinearOperator.solve\u001b[0;34m(self, right_tensor, left_tensor)\u001b[0m\n\u001b[1;32m   2203\u001b[0m func \u001b[38;5;241m=\u001b[39m Solve\n\u001b[1;32m   2204\u001b[0m \u001b[38;5;28;01mif\u001b[39;00m left_tensor \u001b[38;5;129;01mis\u001b[39;00m \u001b[38;5;28;01mNone\u001b[39;00m:\n\u001b[0;32m-> 2205\u001b[0m     \u001b[38;5;28;01mreturn\u001b[39;00m \u001b[43mfunc\u001b[49m\u001b[38;5;241;43m.\u001b[39;49m\u001b[43mapply\u001b[49m\u001b[43m(\u001b[49m\u001b[38;5;28;43mself\u001b[39;49m\u001b[38;5;241;43m.\u001b[39;49m\u001b[43mrepresentation_tree\u001b[49m\u001b[43m(\u001b[49m\u001b[43m)\u001b[49m\u001b[43m,\u001b[49m\u001b[43m \u001b[49m\u001b[38;5;28;43;01mFalse\u001b[39;49;00m\u001b[43m,\u001b[49m\u001b[43m \u001b[49m\u001b[43mright_tensor\u001b[49m\u001b[43m,\u001b[49m\u001b[43m \u001b[49m\u001b[38;5;241;43m*\u001b[39;49m\u001b[38;5;28;43mself\u001b[39;49m\u001b[38;5;241;43m.\u001b[39;49m\u001b[43mrepresentation\u001b[49m\u001b[43m(\u001b[49m\u001b[43m)\u001b[49m\u001b[43m)\u001b[49m\n\u001b[1;32m   2206\u001b[0m \u001b[38;5;28;01melse\u001b[39;00m:\n\u001b[1;32m   2207\u001b[0m     \u001b[38;5;28;01mreturn\u001b[39;00m func\u001b[38;5;241m.\u001b[39mapply(\n\u001b[1;32m   2208\u001b[0m         \u001b[38;5;28mself\u001b[39m\u001b[38;5;241m.\u001b[39mrepresentation_tree(),\n\u001b[1;32m   2209\u001b[0m         \u001b[38;5;28;01mTrue\u001b[39;00m,\n\u001b[0;32m   (...)\u001b[0m\n\u001b[1;32m   2212\u001b[0m         \u001b[38;5;241m*\u001b[39m\u001b[38;5;28mself\u001b[39m\u001b[38;5;241m.\u001b[39mrepresentation(),\n\u001b[1;32m   2213\u001b[0m     )\n",
      "File \u001b[0;32m/mnt/infonas/data/eeshaan/fairness/elk_audit/lib/python3.9/site-packages/linear_operator/functions/_solve.py:53\u001b[0m, in \u001b[0;36mSolve.forward\u001b[0;34m(ctx, representation_tree, has_left, *args)\u001b[0m\n\u001b[1;32m     51\u001b[0m     res \u001b[38;5;241m=\u001b[39m left_tensor \u001b[38;5;241m@\u001b[39m res\n\u001b[1;32m     52\u001b[0m \u001b[38;5;28;01melse\u001b[39;00m:\n\u001b[0;32m---> 53\u001b[0m     solves \u001b[38;5;241m=\u001b[39m \u001b[43m_solve\u001b[49m\u001b[43m(\u001b[49m\u001b[43mlinear_op\u001b[49m\u001b[43m,\u001b[49m\u001b[43m \u001b[49m\u001b[43mright_tensor\u001b[49m\u001b[43m)\u001b[49m\n\u001b[1;32m     54\u001b[0m     res \u001b[38;5;241m=\u001b[39m solves\n\u001b[1;32m     56\u001b[0m \u001b[38;5;28;01mif\u001b[39;00m ctx\u001b[38;5;241m.\u001b[39mis_vector:\n",
      "File \u001b[0;32m/mnt/infonas/data/eeshaan/fairness/elk_audit/lib/python3.9/site-packages/linear_operator/functions/_solve.py:21\u001b[0m, in \u001b[0;36m_solve\u001b[0;34m(linear_op, rhs)\u001b[0m\n\u001b[1;32m     19\u001b[0m \u001b[38;5;28;01mwith\u001b[39;00m torch\u001b[38;5;241m.\u001b[39mno_grad():\n\u001b[1;32m     20\u001b[0m     preconditioner \u001b[38;5;241m=\u001b[39m linear_op\u001b[38;5;241m.\u001b[39mdetach()\u001b[38;5;241m.\u001b[39m_solve_preconditioner()\n\u001b[0;32m---> 21\u001b[0m \u001b[38;5;28;01mreturn\u001b[39;00m \u001b[43mlinear_op\u001b[49m\u001b[38;5;241;43m.\u001b[39;49m\u001b[43m_solve\u001b[49m\u001b[43m(\u001b[49m\u001b[43mrhs\u001b[49m\u001b[43m,\u001b[49m\u001b[43m \u001b[49m\u001b[43mpreconditioner\u001b[49m\u001b[43m)\u001b[49m\n",
      "File \u001b[0;32m/mnt/infonas/data/eeshaan/fairness/elk_audit/lib/python3.9/site-packages/linear_operator/operators/_linear_operator.py:735\u001b[0m, in \u001b[0;36mLinearOperator._solve\u001b[0;34m(self, rhs, preconditioner, num_tridiag)\u001b[0m\n\u001b[1;32m    731\u001b[0m \u001b[38;5;28;01mdef\u001b[39;00m \u001b[38;5;21m_solve\u001b[39m(\u001b[38;5;28mself\u001b[39m, rhs: torch\u001b[38;5;241m.\u001b[39mTensor, preconditioner: Callable, num_tridiag: \u001b[38;5;28mint\u001b[39m \u001b[38;5;241m=\u001b[39m \u001b[38;5;241m0\u001b[39m) \u001b[38;5;241m-\u001b[39m\u001b[38;5;241m>\u001b[39m torch\u001b[38;5;241m.\u001b[39mTensor:\n\u001b[1;32m    732\u001b[0m \u001b[38;5;250m    \u001b[39m\u001b[38;5;124mr\u001b[39m\u001b[38;5;124;03m\"\"\"\u001b[39;00m\n\u001b[1;32m    733\u001b[0m \u001b[38;5;124;03m    TODO\u001b[39;00m\n\u001b[1;32m    734\u001b[0m \u001b[38;5;124;03m    \"\"\"\u001b[39;00m\n\u001b[0;32m--> 735\u001b[0m     \u001b[38;5;28;01mreturn\u001b[39;00m \u001b[43mutils\u001b[49m\u001b[38;5;241;43m.\u001b[39;49m\u001b[43mlinear_cg\u001b[49m\u001b[43m(\u001b[49m\n\u001b[1;32m    736\u001b[0m \u001b[43m        \u001b[49m\u001b[38;5;28;43mself\u001b[39;49m\u001b[38;5;241;43m.\u001b[39;49m\u001b[43m_matmul\u001b[49m\u001b[43m,\u001b[49m\n\u001b[1;32m    737\u001b[0m \u001b[43m        \u001b[49m\u001b[43mrhs\u001b[49m\u001b[43m,\u001b[49m\n\u001b[1;32m    738\u001b[0m \u001b[43m        \u001b[49m\u001b[43mn_tridiag\u001b[49m\u001b[38;5;241;43m=\u001b[39;49m\u001b[43mnum_tridiag\u001b[49m\u001b[43m,\u001b[49m\n\u001b[1;32m    739\u001b[0m \u001b[43m        \u001b[49m\u001b[43mmax_iter\u001b[49m\u001b[38;5;241;43m=\u001b[39;49m\u001b[43msettings\u001b[49m\u001b[38;5;241;43m.\u001b[39;49m\u001b[43mmax_cg_iterations\u001b[49m\u001b[38;5;241;43m.\u001b[39;49m\u001b[43mvalue\u001b[49m\u001b[43m(\u001b[49m\u001b[43m)\u001b[49m\u001b[43m,\u001b[49m\n\u001b[1;32m    740\u001b[0m \u001b[43m        \u001b[49m\u001b[43mmax_tridiag_iter\u001b[49m\u001b[38;5;241;43m=\u001b[39;49m\u001b[43msettings\u001b[49m\u001b[38;5;241;43m.\u001b[39;49m\u001b[43mmax_lanczos_quadrature_iterations\u001b[49m\u001b[38;5;241;43m.\u001b[39;49m\u001b[43mvalue\u001b[49m\u001b[43m(\u001b[49m\u001b[43m)\u001b[49m\u001b[43m,\u001b[49m\n\u001b[1;32m    741\u001b[0m \u001b[43m        \u001b[49m\u001b[43mpreconditioner\u001b[49m\u001b[38;5;241;43m=\u001b[39;49m\u001b[43mpreconditioner\u001b[49m\u001b[43m,\u001b[49m\n\u001b[1;32m    742\u001b[0m \u001b[43m    \u001b[49m\u001b[43m)\u001b[49m\n",
      "File \u001b[0;32m/mnt/infonas/data/eeshaan/fairness/elk_audit/lib/python3.9/site-packages/linear_operator/utils/linear_cg.py:176\u001b[0m, in \u001b[0;36mlinear_cg\u001b[0;34m(matmul_closure, rhs, n_tridiag, tolerance, eps, stop_updating_after, max_iter, max_tridiag_iter, initial_guess, preconditioner)\u001b[0m\n\u001b[1;32m    173\u001b[0m rhs \u001b[38;5;241m=\u001b[39m rhs\u001b[38;5;241m.\u001b[39mdiv(rhs_norm)\n\u001b[1;32m    175\u001b[0m \u001b[38;5;66;03m# residual: residual_{0} = b_vec - lhs x_{0}\u001b[39;00m\n\u001b[0;32m--> 176\u001b[0m residual \u001b[38;5;241m=\u001b[39m rhs \u001b[38;5;241m-\u001b[39m \u001b[43mmatmul_closure\u001b[49m\u001b[43m(\u001b[49m\u001b[43minitial_guess\u001b[49m\u001b[43m)\u001b[49m\n\u001b[1;32m    177\u001b[0m batch_shape \u001b[38;5;241m=\u001b[39m residual\u001b[38;5;241m.\u001b[39mshape[:\u001b[38;5;241m-\u001b[39m\u001b[38;5;241m2\u001b[39m]\n\u001b[1;32m    179\u001b[0m \u001b[38;5;66;03m# result <- x_{0}\u001b[39;00m\n",
      "File \u001b[0;32m/mnt/infonas/data/eeshaan/fairness/elk_audit/lib/python3.9/site-packages/linear_operator/operators/added_diag_linear_operator.py:71\u001b[0m, in \u001b[0;36mAddedDiagLinearOperator._matmul\u001b[0;34m(self, rhs)\u001b[0m\n\u001b[1;32m     70\u001b[0m \u001b[38;5;28;01mdef\u001b[39;00m \u001b[38;5;21m_matmul\u001b[39m(\u001b[38;5;28mself\u001b[39m, rhs: Tensor) \u001b[38;5;241m-\u001b[39m\u001b[38;5;241m>\u001b[39m Tensor:\n\u001b[0;32m---> 71\u001b[0m     \u001b[38;5;28;01mreturn\u001b[39;00m torch\u001b[38;5;241m.\u001b[39maddcmul(\u001b[38;5;28;43mself\u001b[39;49m\u001b[38;5;241;43m.\u001b[39;49m\u001b[43m_linear_op\u001b[49m\u001b[38;5;241;43m.\u001b[39;49m\u001b[43m_matmul\u001b[49m\u001b[43m(\u001b[49m\u001b[43mrhs\u001b[49m\u001b[43m)\u001b[49m, \u001b[38;5;28mself\u001b[39m\u001b[38;5;241m.\u001b[39m_diag_tensor\u001b[38;5;241m.\u001b[39m_diag\u001b[38;5;241m.\u001b[39munsqueeze(\u001b[38;5;241m-\u001b[39m\u001b[38;5;241m1\u001b[39m), rhs)\n",
      "File \u001b[0;32m/mnt/infonas/data/eeshaan/fairness/elk_audit/lib/python3.9/site-packages/linear_operator/operators/dense_linear_operator.py:53\u001b[0m, in \u001b[0;36mDenseLinearOperator._matmul\u001b[0;34m(self, rhs)\u001b[0m\n\u001b[1;32m     52\u001b[0m \u001b[38;5;28;01mdef\u001b[39;00m \u001b[38;5;21m_matmul\u001b[39m(\u001b[38;5;28mself\u001b[39m, rhs):\n\u001b[0;32m---> 53\u001b[0m     \u001b[38;5;28;01mreturn\u001b[39;00m \u001b[43mtorch\u001b[49m\u001b[38;5;241;43m.\u001b[39;49m\u001b[43mmatmul\u001b[49m\u001b[43m(\u001b[49m\u001b[38;5;28;43mself\u001b[39;49m\u001b[38;5;241;43m.\u001b[39;49m\u001b[43mtensor\u001b[49m\u001b[43m,\u001b[49m\u001b[43m \u001b[49m\u001b[43mrhs\u001b[49m\u001b[43m)\u001b[49m\n",
      "\u001b[0;31mRuntimeError\u001b[0m: expected scalar type Float but found Double"
     ]
    }
   ],
   "source": [
    "model0(x0_samples)"
   ]
  },
  {
   "cell_type": "code",
   "execution_count": null,
   "id": "50b4dde2-eb36-4759-b731-3d65aaca8788",
   "metadata": {},
   "outputs": [],
   "source": []
  },
  {
   "cell_type": "code",
   "execution_count": null,
   "id": "74dc72c8-8a59-43fb-af67-88c43d085b53",
   "metadata": {},
   "outputs": [],
   "source": []
  },
  {
   "cell_type": "code",
   "execution_count": null,
   "id": "2d3b80e2-084a-443d-90b1-891a57a3afa9",
   "metadata": {},
   "outputs": [],
   "source": []
  },
  {
   "cell_type": "code",
   "execution_count": 20,
   "id": "7ea1f072",
   "metadata": {
    "scrolled": true,
    "tags": []
   },
   "outputs": [
    {
     "data": {
      "application/vnd.jupyter.widget-view+json": {
       "model_id": "5646a0391f2a447a8379468fae760847",
       "version_major": 2,
       "version_minor": 0
      },
      "text/plain": [
       "  0%|          | 0/4000 [00:00<?, ?it/s]"
      ]
     },
     "metadata": {},
     "output_type": "display_data"
    },
    {
     "name": "stdout",
     "output_type": "stream",
     "text": [
      "torch.Size([1100, 1]) torch.int64\n",
      "torch.Size([1100, 102]) torch.float32\n"
     ]
    },
    {
     "data": {
      "application/vnd.jupyter.widget-view+json": {
       "model_id": "4e2186a455754836a602079bf605b4a4",
       "version_major": 2,
       "version_minor": 0
      },
      "text/plain": [
       "  0%|          | 0/50 [00:00<?, ?it/s]"
      ]
     },
     "metadata": {},
     "output_type": "display_data"
    },
    {
     "name": "stdout",
     "output_type": "stream",
     "text": [
      "torch.Size([1200, 1]) torch.int64\n",
      "torch.Size([1200, 102]) torch.float32\n"
     ]
    },
    {
     "data": {
      "application/vnd.jupyter.widget-view+json": {
       "model_id": "d86ed97e914f48fcb26d2916d3d69052",
       "version_major": 2,
       "version_minor": 0
      },
      "text/plain": [
       "  0%|          | 0/50 [00:00<?, ?it/s]"
      ]
     },
     "metadata": {},
     "output_type": "display_data"
    },
    {
     "name": "stdout",
     "output_type": "stream",
     "text": [
      "torch.Size([1300, 1]) torch.int64\n",
      "torch.Size([1300, 102]) torch.float32\n"
     ]
    },
    {
     "data": {
      "application/vnd.jupyter.widget-view+json": {
       "model_id": "7041e543add84a1f953bd7d805912656",
       "version_major": 2,
       "version_minor": 0
      },
      "text/plain": [
       "  0%|          | 0/50 [00:00<?, ?it/s]"
      ]
     },
     "metadata": {},
     "output_type": "display_data"
    },
    {
     "name": "stdout",
     "output_type": "stream",
     "text": [
      "torch.Size([1400, 1]) torch.int64\n",
      "torch.Size([1400, 102]) torch.float32\n"
     ]
    },
    {
     "data": {
      "application/vnd.jupyter.widget-view+json": {
       "model_id": "9a5d383041c74b4784a7844cc0aff457",
       "version_major": 2,
       "version_minor": 0
      },
      "text/plain": [
       "  0%|          | 0/50 [00:00<?, ?it/s]"
      ]
     },
     "metadata": {},
     "output_type": "display_data"
    },
    {
     "name": "stdout",
     "output_type": "stream",
     "text": [
      "torch.Size([1500, 1]) torch.int64\n",
      "torch.Size([1500, 102]) torch.float32\n"
     ]
    },
    {
     "data": {
      "application/vnd.jupyter.widget-view+json": {
       "model_id": "1e33b1b49e7043a8932ce8ef4ef65d98",
       "version_major": 2,
       "version_minor": 0
      },
      "text/plain": [
       "  0%|          | 0/50 [00:00<?, ?it/s]"
      ]
     },
     "metadata": {},
     "output_type": "display_data"
    },
    {
     "name": "stdout",
     "output_type": "stream",
     "text": [
      "torch.Size([1600, 1]) torch.int64\n",
      "torch.Size([1600, 102]) torch.float32\n"
     ]
    },
    {
     "data": {
      "application/vnd.jupyter.widget-view+json": {
       "model_id": "b89fb9230e464878805d6c94240f89f5",
       "version_major": 2,
       "version_minor": 0
      },
      "text/plain": [
       "  0%|          | 0/50 [00:00<?, ?it/s]"
      ]
     },
     "metadata": {},
     "output_type": "display_data"
    },
    {
     "name": "stdout",
     "output_type": "stream",
     "text": [
      "torch.Size([1700, 1]) torch.int64\n",
      "torch.Size([1700, 102]) torch.float32\n"
     ]
    },
    {
     "data": {
      "application/vnd.jupyter.widget-view+json": {
       "model_id": "dfea5566c1bd41b997e3614ac74e2d2d",
       "version_major": 2,
       "version_minor": 0
      },
      "text/plain": [
       "  0%|          | 0/50 [00:00<?, ?it/s]"
      ]
     },
     "metadata": {},
     "output_type": "display_data"
    },
    {
     "name": "stdout",
     "output_type": "stream",
     "text": [
      "torch.Size([1800, 1]) torch.int64\n",
      "torch.Size([1800, 102]) torch.float32\n"
     ]
    },
    {
     "data": {
      "application/vnd.jupyter.widget-view+json": {
       "model_id": "fc7d53ea46a0445aae90ea8f21b61757",
       "version_major": 2,
       "version_minor": 0
      },
      "text/plain": [
       "  0%|          | 0/50 [00:00<?, ?it/s]"
      ]
     },
     "metadata": {},
     "output_type": "display_data"
    },
    {
     "name": "stdout",
     "output_type": "stream",
     "text": [
      "torch.Size([1900, 1]) torch.int64\n",
      "torch.Size([1900, 102]) torch.float32\n"
     ]
    },
    {
     "data": {
      "application/vnd.jupyter.widget-view+json": {
       "model_id": "6ab0c1235a7d4784838df847d754c13c",
       "version_major": 2,
       "version_minor": 0
      },
      "text/plain": [
       "  0%|          | 0/50 [00:00<?, ?it/s]"
      ]
     },
     "metadata": {},
     "output_type": "display_data"
    },
    {
     "name": "stdout",
     "output_type": "stream",
     "text": [
      "torch.Size([2000, 1]) torch.int64\n",
      "torch.Size([2000, 102]) torch.float32\n"
     ]
    },
    {
     "data": {
      "application/vnd.jupyter.widget-view+json": {
       "model_id": "2c13aaea73764346a6e503f956260293",
       "version_major": 2,
       "version_minor": 0
      },
      "text/plain": [
       "  0%|          | 0/50 [00:00<?, ?it/s]"
      ]
     },
     "metadata": {},
     "output_type": "display_data"
    },
    {
     "name": "stdout",
     "output_type": "stream",
     "text": [
      "torch.Size([2100, 1]) torch.int64\n",
      "torch.Size([2100, 102]) torch.float32\n"
     ]
    },
    {
     "data": {
      "application/vnd.jupyter.widget-view+json": {
       "model_id": "2aab08fb82a744668061927cb1e5382c",
       "version_major": 2,
       "version_minor": 0
      },
      "text/plain": [
       "  0%|          | 0/50 [00:00<?, ?it/s]"
      ]
     },
     "metadata": {},
     "output_type": "display_data"
    },
    {
     "name": "stdout",
     "output_type": "stream",
     "text": [
      "torch.Size([2200, 1]) torch.int64\n",
      "torch.Size([2200, 102]) torch.float32\n"
     ]
    },
    {
     "data": {
      "application/vnd.jupyter.widget-view+json": {
       "model_id": "09135cd1397b4e7ab47c72cde3e193e7",
       "version_major": 2,
       "version_minor": 0
      },
      "text/plain": [
       "  0%|          | 0/50 [00:00<?, ?it/s]"
      ]
     },
     "metadata": {},
     "output_type": "display_data"
    },
    {
     "name": "stdout",
     "output_type": "stream",
     "text": [
      "torch.Size([2300, 1]) torch.int64\n",
      "torch.Size([2300, 102]) torch.float32\n"
     ]
    },
    {
     "data": {
      "application/vnd.jupyter.widget-view+json": {
       "model_id": "d6ae92f3acc74af08c69680bef6b84ae",
       "version_major": 2,
       "version_minor": 0
      },
      "text/plain": [
       "  0%|          | 0/50 [00:00<?, ?it/s]"
      ]
     },
     "metadata": {},
     "output_type": "display_data"
    },
    {
     "name": "stdout",
     "output_type": "stream",
     "text": [
      "torch.Size([2400, 1]) torch.int64\n",
      "torch.Size([2400, 102]) torch.float32\n"
     ]
    },
    {
     "data": {
      "application/vnd.jupyter.widget-view+json": {
       "model_id": "5d73f5835b0b43e7976d429de6abf9dc",
       "version_major": 2,
       "version_minor": 0
      },
      "text/plain": [
       "  0%|          | 0/50 [00:00<?, ?it/s]"
      ]
     },
     "metadata": {},
     "output_type": "display_data"
    },
    {
     "name": "stdout",
     "output_type": "stream",
     "text": [
      "torch.Size([2500, 1]) torch.int64\n",
      "torch.Size([2500, 102]) torch.float32\n"
     ]
    },
    {
     "data": {
      "application/vnd.jupyter.widget-view+json": {
       "model_id": "1693b5d2680a4550aeb69a414eeab16f",
       "version_major": 2,
       "version_minor": 0
      },
      "text/plain": [
       "  0%|          | 0/50 [00:00<?, ?it/s]"
      ]
     },
     "metadata": {},
     "output_type": "display_data"
    },
    {
     "name": "stdout",
     "output_type": "stream",
     "text": [
      "torch.Size([2600, 1]) torch.int64\n",
      "torch.Size([2600, 102]) torch.float32\n"
     ]
    },
    {
     "data": {
      "application/vnd.jupyter.widget-view+json": {
       "model_id": "184d1615a36d4b3f8b85783988dd589f",
       "version_major": 2,
       "version_minor": 0
      },
      "text/plain": [
       "  0%|          | 0/50 [00:00<?, ?it/s]"
      ]
     },
     "metadata": {},
     "output_type": "display_data"
    },
    {
     "name": "stdout",
     "output_type": "stream",
     "text": [
      "torch.Size([2700, 1]) torch.int64\n",
      "torch.Size([2700, 102]) torch.float32\n"
     ]
    },
    {
     "data": {
      "application/vnd.jupyter.widget-view+json": {
       "model_id": "63ac5007704e42ec8eeab8e939cf7630",
       "version_major": 2,
       "version_minor": 0
      },
      "text/plain": [
       "  0%|          | 0/50 [00:00<?, ?it/s]"
      ]
     },
     "metadata": {},
     "output_type": "display_data"
    },
    {
     "name": "stdout",
     "output_type": "stream",
     "text": [
      "torch.Size([2800, 1]) torch.int64\n",
      "torch.Size([2800, 102]) torch.float32\n"
     ]
    },
    {
     "data": {
      "application/vnd.jupyter.widget-view+json": {
       "model_id": "8438888186e7487f8a87e342ac459567",
       "version_major": 2,
       "version_minor": 0
      },
      "text/plain": [
       "  0%|          | 0/50 [00:00<?, ?it/s]"
      ]
     },
     "metadata": {},
     "output_type": "display_data"
    },
    {
     "name": "stdout",
     "output_type": "stream",
     "text": [
      "torch.Size([2900, 1]) torch.int64\n",
      "torch.Size([2900, 102]) torch.float32\n"
     ]
    },
    {
     "data": {
      "application/vnd.jupyter.widget-view+json": {
       "model_id": "a61d426d88d6474280589a8435fe2a66",
       "version_major": 2,
       "version_minor": 0
      },
      "text/plain": [
       "  0%|          | 0/50 [00:00<?, ?it/s]"
      ]
     },
     "metadata": {},
     "output_type": "display_data"
    },
    {
     "name": "stdout",
     "output_type": "stream",
     "text": [
      "torch.Size([3000, 1]) torch.int64\n",
      "torch.Size([3000, 102]) torch.float32\n"
     ]
    },
    {
     "data": {
      "application/vnd.jupyter.widget-view+json": {
       "model_id": "cc9e78f06af64339a378d7a014c56c3d",
       "version_major": 2,
       "version_minor": 0
      },
      "text/plain": [
       "  0%|          | 0/50 [00:00<?, ?it/s]"
      ]
     },
     "metadata": {},
     "output_type": "display_data"
    },
    {
     "name": "stdout",
     "output_type": "stream",
     "text": [
      "torch.Size([3100, 1]) torch.int64\n",
      "torch.Size([3100, 102]) torch.float32\n"
     ]
    },
    {
     "data": {
      "application/vnd.jupyter.widget-view+json": {
       "model_id": "dac4744854d448cc9e1158963841e988",
       "version_major": 2,
       "version_minor": 0
      },
      "text/plain": [
       "  0%|          | 0/50 [00:00<?, ?it/s]"
      ]
     },
     "metadata": {},
     "output_type": "display_data"
    },
    {
     "name": "stdout",
     "output_type": "stream",
     "text": [
      "torch.Size([3200, 1]) torch.int64\n",
      "torch.Size([3200, 102]) torch.float32\n"
     ]
    },
    {
     "data": {
      "application/vnd.jupyter.widget-view+json": {
       "model_id": "43ca9029527d437f88d667b9d62ed7a2",
       "version_major": 2,
       "version_minor": 0
      },
      "text/plain": [
       "  0%|          | 0/50 [00:00<?, ?it/s]"
      ]
     },
     "metadata": {},
     "output_type": "display_data"
    },
    {
     "name": "stdout",
     "output_type": "stream",
     "text": [
      "torch.Size([3300, 1]) torch.int64\n",
      "torch.Size([3300, 102]) torch.float32\n"
     ]
    },
    {
     "data": {
      "application/vnd.jupyter.widget-view+json": {
       "model_id": "9295d372c3054b92b4e3d2d6ccfb1402",
       "version_major": 2,
       "version_minor": 0
      },
      "text/plain": [
       "  0%|          | 0/50 [00:00<?, ?it/s]"
      ]
     },
     "metadata": {},
     "output_type": "display_data"
    },
    {
     "name": "stdout",
     "output_type": "stream",
     "text": [
      "torch.Size([3400, 1]) torch.int64\n",
      "torch.Size([3400, 102]) torch.float32\n"
     ]
    },
    {
     "data": {
      "application/vnd.jupyter.widget-view+json": {
       "model_id": "597caa23eb8a48edb043934870405863",
       "version_major": 2,
       "version_minor": 0
      },
      "text/plain": [
       "  0%|          | 0/50 [00:00<?, ?it/s]"
      ]
     },
     "metadata": {},
     "output_type": "display_data"
    },
    {
     "name": "stdout",
     "output_type": "stream",
     "text": [
      "torch.Size([3500, 1]) torch.int64\n",
      "torch.Size([3500, 102]) torch.float32\n"
     ]
    },
    {
     "data": {
      "application/vnd.jupyter.widget-view+json": {
       "model_id": "23c79f4dcd5a4560af02a8ce9d98cc2f",
       "version_major": 2,
       "version_minor": 0
      },
      "text/plain": [
       "  0%|          | 0/50 [00:00<?, ?it/s]"
      ]
     },
     "metadata": {},
     "output_type": "display_data"
    },
    {
     "name": "stdout",
     "output_type": "stream",
     "text": [
      "torch.Size([3600, 1]) torch.int64\n",
      "torch.Size([3600, 102]) torch.float32\n"
     ]
    },
    {
     "data": {
      "application/vnd.jupyter.widget-view+json": {
       "model_id": "8b5a599eb59847caae2902d8d402ee94",
       "version_major": 2,
       "version_minor": 0
      },
      "text/plain": [
       "  0%|          | 0/50 [00:00<?, ?it/s]"
      ]
     },
     "metadata": {},
     "output_type": "display_data"
    },
    {
     "name": "stdout",
     "output_type": "stream",
     "text": [
      "torch.Size([3700, 1]) torch.int64\n",
      "torch.Size([3700, 102]) torch.float32\n"
     ]
    },
    {
     "data": {
      "application/vnd.jupyter.widget-view+json": {
       "model_id": "4c7d83f2cd604cd29745351898cad267",
       "version_major": 2,
       "version_minor": 0
      },
      "text/plain": [
       "  0%|          | 0/50 [00:00<?, ?it/s]"
      ]
     },
     "metadata": {},
     "output_type": "display_data"
    },
    {
     "name": "stdout",
     "output_type": "stream",
     "text": [
      "torch.Size([3800, 1]) torch.int64\n",
      "torch.Size([3800, 102]) torch.float32\n"
     ]
    },
    {
     "data": {
      "application/vnd.jupyter.widget-view+json": {
       "model_id": "4b04248ec61c44869f577e97c67a46c0",
       "version_major": 2,
       "version_minor": 0
      },
      "text/plain": [
       "  0%|          | 0/50 [00:00<?, ?it/s]"
      ]
     },
     "metadata": {},
     "output_type": "display_data"
    },
    {
     "name": "stdout",
     "output_type": "stream",
     "text": [
      "torch.Size([3900, 1]) torch.int64\n",
      "torch.Size([3900, 102]) torch.float32\n"
     ]
    },
    {
     "data": {
      "application/vnd.jupyter.widget-view+json": {
       "model_id": "4de1842a1890483ea5bd12ad994c55a4",
       "version_major": 2,
       "version_minor": 0
      },
      "text/plain": [
       "  0%|          | 0/50 [00:00<?, ?it/s]"
      ]
     },
     "metadata": {},
     "output_type": "display_data"
    },
    {
     "name": "stdout",
     "output_type": "stream",
     "text": [
      "torch.Size([4000, 1]) torch.int64\n",
      "torch.Size([4000, 102]) torch.float32\n"
     ]
    },
    {
     "data": {
      "application/vnd.jupyter.widget-view+json": {
       "model_id": "3a44bc383c28417b8059e5947f1123c3",
       "version_major": 2,
       "version_minor": 0
      },
      "text/plain": [
       "  0%|          | 0/50 [00:00<?, ?it/s]"
      ]
     },
     "metadata": {},
     "output_type": "display_data"
    },
    {
     "name": "stdout",
     "output_type": "stream",
     "text": [
      "torch.Size([4100, 1]) torch.int64\n",
      "torch.Size([4100, 102]) torch.float32\n"
     ]
    },
    {
     "data": {
      "application/vnd.jupyter.widget-view+json": {
       "model_id": "ad921b0903ed4519ad4c9b206e846ef4",
       "version_major": 2,
       "version_minor": 0
      },
      "text/plain": [
       "  0%|          | 0/50 [00:00<?, ?it/s]"
      ]
     },
     "metadata": {},
     "output_type": "display_data"
    },
    {
     "name": "stdout",
     "output_type": "stream",
     "text": [
      "torch.Size([4200, 1]) torch.int64\n",
      "torch.Size([4200, 102]) torch.float32\n"
     ]
    },
    {
     "data": {
      "application/vnd.jupyter.widget-view+json": {
       "model_id": "80c0250ff1f145968b5c917a76b3e8df",
       "version_major": 2,
       "version_minor": 0
      },
      "text/plain": [
       "  0%|          | 0/50 [00:00<?, ?it/s]"
      ]
     },
     "metadata": {},
     "output_type": "display_data"
    },
    {
     "name": "stdout",
     "output_type": "stream",
     "text": [
      "torch.Size([4300, 1]) torch.int64\n",
      "torch.Size([4300, 102]) torch.float32\n"
     ]
    },
    {
     "data": {
      "application/vnd.jupyter.widget-view+json": {
       "model_id": "c0bd066a0e8842229225e934b0c17f09",
       "version_major": 2,
       "version_minor": 0
      },
      "text/plain": [
       "  0%|          | 0/50 [00:00<?, ?it/s]"
      ]
     },
     "metadata": {},
     "output_type": "display_data"
    },
    {
     "name": "stdout",
     "output_type": "stream",
     "text": [
      "torch.Size([4400, 1]) torch.int64\n",
      "torch.Size([4400, 102]) torch.float32\n"
     ]
    },
    {
     "data": {
      "application/vnd.jupyter.widget-view+json": {
       "model_id": "46df51dafcdd4097896d4f47fc2d2cc8",
       "version_major": 2,
       "version_minor": 0
      },
      "text/plain": [
       "  0%|          | 0/50 [00:00<?, ?it/s]"
      ]
     },
     "metadata": {},
     "output_type": "display_data"
    },
    {
     "name": "stdout",
     "output_type": "stream",
     "text": [
      "torch.Size([4500, 1]) torch.int64\n",
      "torch.Size([4500, 102]) torch.float32\n"
     ]
    },
    {
     "data": {
      "application/vnd.jupyter.widget-view+json": {
       "model_id": "3d0f54b2dce144df80711cd9241ee819",
       "version_major": 2,
       "version_minor": 0
      },
      "text/plain": [
       "  0%|          | 0/50 [00:00<?, ?it/s]"
      ]
     },
     "metadata": {},
     "output_type": "display_data"
    },
    {
     "name": "stdout",
     "output_type": "stream",
     "text": [
      "torch.Size([4600, 1]) torch.int64\n",
      "torch.Size([4600, 102]) torch.float32\n"
     ]
    },
    {
     "data": {
      "application/vnd.jupyter.widget-view+json": {
       "model_id": "9bb7d5741ba2447994613d69f45e067b",
       "version_major": 2,
       "version_minor": 0
      },
      "text/plain": [
       "  0%|          | 0/50 [00:00<?, ?it/s]"
      ]
     },
     "metadata": {},
     "output_type": "display_data"
    },
    {
     "name": "stdout",
     "output_type": "stream",
     "text": [
      "torch.Size([4700, 1]) torch.int64\n",
      "torch.Size([4700, 102]) torch.float32\n"
     ]
    },
    {
     "data": {
      "application/vnd.jupyter.widget-view+json": {
       "model_id": "1499cd6243324524ab06b1037640812c",
       "version_major": 2,
       "version_minor": 0
      },
      "text/plain": [
       "  0%|          | 0/50 [00:00<?, ?it/s]"
      ]
     },
     "metadata": {},
     "output_type": "display_data"
    },
    {
     "name": "stdout",
     "output_type": "stream",
     "text": [
      "torch.Size([4800, 1]) torch.int64\n",
      "torch.Size([4800, 102]) torch.float32\n"
     ]
    },
    {
     "data": {
      "application/vnd.jupyter.widget-view+json": {
       "model_id": "cb5a72f6c7304defb9dc4b4307ccd34a",
       "version_major": 2,
       "version_minor": 0
      },
      "text/plain": [
       "  0%|          | 0/50 [00:00<?, ?it/s]"
      ]
     },
     "metadata": {},
     "output_type": "display_data"
    },
    {
     "name": "stdout",
     "output_type": "stream",
     "text": [
      "torch.Size([4900, 1]) torch.int64\n",
      "torch.Size([4900, 102]) torch.float32\n"
     ]
    },
    {
     "data": {
      "application/vnd.jupyter.widget-view+json": {
       "model_id": "e847553b5d604e46813e902205267e36",
       "version_major": 2,
       "version_minor": 0
      },
      "text/plain": [
       "  0%|          | 0/50 [00:00<?, ?it/s]"
      ]
     },
     "metadata": {},
     "output_type": "display_data"
    },
    {
     "name": "stdout",
     "output_type": "stream",
     "text": [
      "torch.Size([5000, 1]) torch.int64\n",
      "torch.Size([5000, 102]) torch.float32\n"
     ]
    },
    {
     "data": {
      "application/vnd.jupyter.widget-view+json": {
       "model_id": "95e234a9e931452780bd0880f464a1cc",
       "version_major": 2,
       "version_minor": 0
      },
      "text/plain": [
       "  0%|          | 0/50 [00:00<?, ?it/s]"
      ]
     },
     "metadata": {},
     "output_type": "display_data"
    }
   ],
   "source": [
    "lambda_reg = 1.0\n",
    "candidates = []\n",
    "neg_queried = warm_start_x0.clone()\n",
    "neg_labels = warm_start_y0.clone().unsqueeze(1)\n",
    "\n",
    "for epoch_outer in tqdm(range(1, 4001)):\n",
    "    x0_random = torch.normal(0.,1.,size=(1,102), dtype=torch.float32, requires_grad=True)\n",
    "    optimizer0 = torch.optim.AdamW((x0_random,), lr=1.0)\n",
    "    best_loss = 10e5\n",
    "    count = 0\n",
    "    losses = []\n",
    "    for epoch in range(1,100):\n",
    "        optimizer0.zero_grad()\n",
    "        x0_samples = utils.postprocess(\n",
    "            vae0.sample(x0_random.to(device), 100, device, \n",
    "                        **{'tau': 1.0, 'tau_min': 0.1, 'anneal_rate': 3e-5, 'steps': 0, 'hard': False}).squeeze(1),\n",
    "            'adult_income'\n",
    "        )\n",
    "        obj0 = likelihood0(model0(x0_samples.to(device))).variance.sum(axis=0).mean() - lambda_reg * ((x0_random.to(device) - x0_samples)**2).mean()\n",
    "#         print(obj0.shape)\n",
    "        loss = -obj0\n",
    "        loss.backward()\n",
    "        optimizer0.step()\n",
    "        if loss < best_loss:\n",
    "            best_loss = loss\n",
    "            count = 0\n",
    "            losses.append(loss)\n",
    "        else:\n",
    "            count += 1\n",
    "        if count  == 5:\n",
    "            break\n",
    "    x0_query = dfx_0.iloc[np.argmin(np.linalg.norm(np.array(dfx_0) - x0_random.detach().clone().numpy()))]\n",
    "    candidates.append(torch.Tensor([x0_query]).float().to(device))\n",
    "    \n",
    "    if epoch_outer % 100 == 0:\n",
    "        new_vals = torch.concatenate(candidates)\n",
    "        new_queries,_, _ = vae0(new_vals.to(device), **{'tau': 1.0, 'tau_min': 0.1, 'anneal_rate': 3e-5, 'steps': 0, 'hard': False})\n",
    "        new_labels = blackbox(new_queries)\n",
    "        neg_queried = torch.concatenate([neg_queried, new_queries])\n",
    "        neg_labels = torch.concatenate([neg_labels, (0.5*(torch.sign(new_labels - 0.5) + 1.0)).long().detach().clone()])\n",
    "        print(neg_labels.shape, neg_labels.dtype)\n",
    "        print(neg_queried.shape, neg_queried.dtype)\n",
    "        model0, likelihood0 = train(neg_queried.detach().clone(),neg_labels.flatten())\n",
    "        model0.eval()\n",
    "        likelihood0.eval()\n",
    "        candidates = []"
   ]
  },
  {
   "cell_type": "code",
   "execution_count": 21,
   "id": "b8a6b87b",
   "metadata": {
    "collapsed": true,
    "jupyter": {
     "outputs_hidden": true
    },
    "tags": []
   },
   "outputs": [
    {
     "name": "stdout",
     "output_type": "stream",
     "text": [
      "torch.Size([1000, 1]) torch.int64\n",
      "torch.Size([1000, 102]) torch.float32\n"
     ]
    },
    {
     "data": {
      "application/vnd.jupyter.widget-view+json": {
       "model_id": "d8577836a14f405eb5a365e66409ae1f",
       "version_major": 2,
       "version_minor": 0
      },
      "text/plain": [
       "  0%|          | 0/4000 [00:00<?, ?it/s]"
      ]
     },
     "metadata": {},
     "output_type": "display_data"
    },
    {
     "data": {
      "application/vnd.jupyter.widget-view+json": {
       "model_id": "7d572cb71c9945ecbcdd7dc6e1fcc5c9",
       "version_major": 2,
       "version_minor": 0
      },
      "text/plain": [
       "  0%|          | 0/50 [00:00<?, ?it/s]"
      ]
     },
     "metadata": {},
     "output_type": "display_data"
    },
    {
     "data": {
      "application/vnd.jupyter.widget-view+json": {
       "model_id": "86d1bc9f085449e2bdc24f10059669f7",
       "version_major": 2,
       "version_minor": 0
      },
      "text/plain": [
       "  0%|          | 0/50 [00:00<?, ?it/s]"
      ]
     },
     "metadata": {},
     "output_type": "display_data"
    },
    {
     "data": {
      "application/vnd.jupyter.widget-view+json": {
       "model_id": "04d1d68db8b244788c3de0a4b985ed3c",
       "version_major": 2,
       "version_minor": 0
      },
      "text/plain": [
       "  0%|          | 0/50 [00:00<?, ?it/s]"
      ]
     },
     "metadata": {},
     "output_type": "display_data"
    },
    {
     "data": {
      "application/vnd.jupyter.widget-view+json": {
       "model_id": "ea8c3e803f864d1481d7cf662e67f598",
       "version_major": 2,
       "version_minor": 0
      },
      "text/plain": [
       "  0%|          | 0/50 [00:00<?, ?it/s]"
      ]
     },
     "metadata": {},
     "output_type": "display_data"
    },
    {
     "data": {
      "application/vnd.jupyter.widget-view+json": {
       "model_id": "ff3aa354d5d44613917dee9a0b406047",
       "version_major": 2,
       "version_minor": 0
      },
      "text/plain": [
       "  0%|          | 0/50 [00:00<?, ?it/s]"
      ]
     },
     "metadata": {},
     "output_type": "display_data"
    },
    {
     "data": {
      "application/vnd.jupyter.widget-view+json": {
       "model_id": "088ae3c4f8fc4f758dec2275c6b9b45f",
       "version_major": 2,
       "version_minor": 0
      },
      "text/plain": [
       "  0%|          | 0/50 [00:00<?, ?it/s]"
      ]
     },
     "metadata": {},
     "output_type": "display_data"
    },
    {
     "data": {
      "application/vnd.jupyter.widget-view+json": {
       "model_id": "2d2d9ef0263c4c4ba94d6b2e6efcce4c",
       "version_major": 2,
       "version_minor": 0
      },
      "text/plain": [
       "  0%|          | 0/50 [00:00<?, ?it/s]"
      ]
     },
     "metadata": {},
     "output_type": "display_data"
    },
    {
     "data": {
      "application/vnd.jupyter.widget-view+json": {
       "model_id": "54517f3e5c5e475dbc43fd6cf19225ac",
       "version_major": 2,
       "version_minor": 0
      },
      "text/plain": [
       "  0%|          | 0/50 [00:00<?, ?it/s]"
      ]
     },
     "metadata": {},
     "output_type": "display_data"
    },
    {
     "data": {
      "application/vnd.jupyter.widget-view+json": {
       "model_id": "f5b67e2d2aac45d4850b1fee6a2859a3",
       "version_major": 2,
       "version_minor": 0
      },
      "text/plain": [
       "  0%|          | 0/50 [00:00<?, ?it/s]"
      ]
     },
     "metadata": {},
     "output_type": "display_data"
    },
    {
     "data": {
      "application/vnd.jupyter.widget-view+json": {
       "model_id": "420e1266232b4f6b964b79dda50772f3",
       "version_major": 2,
       "version_minor": 0
      },
      "text/plain": [
       "  0%|          | 0/50 [00:00<?, ?it/s]"
      ]
     },
     "metadata": {},
     "output_type": "display_data"
    },
    {
     "data": {
      "application/vnd.jupyter.widget-view+json": {
       "model_id": "6ecb7a7a710d41fd84c99dfb70ef3489",
       "version_major": 2,
       "version_minor": 0
      },
      "text/plain": [
       "  0%|          | 0/50 [00:00<?, ?it/s]"
      ]
     },
     "metadata": {},
     "output_type": "display_data"
    },
    {
     "data": {
      "application/vnd.jupyter.widget-view+json": {
       "model_id": "bc708841c10449d0b28573667876ef0d",
       "version_major": 2,
       "version_minor": 0
      },
      "text/plain": [
       "  0%|          | 0/50 [00:00<?, ?it/s]"
      ]
     },
     "metadata": {},
     "output_type": "display_data"
    },
    {
     "data": {
      "application/vnd.jupyter.widget-view+json": {
       "model_id": "9ed506632c654530bf8e0946f160710d",
       "version_major": 2,
       "version_minor": 0
      },
      "text/plain": [
       "  0%|          | 0/50 [00:00<?, ?it/s]"
      ]
     },
     "metadata": {},
     "output_type": "display_data"
    },
    {
     "data": {
      "application/vnd.jupyter.widget-view+json": {
       "model_id": "98823bcb1d794a288a9d7889efe13fd2",
       "version_major": 2,
       "version_minor": 0
      },
      "text/plain": [
       "  0%|          | 0/50 [00:00<?, ?it/s]"
      ]
     },
     "metadata": {},
     "output_type": "display_data"
    },
    {
     "data": {
      "application/vnd.jupyter.widget-view+json": {
       "model_id": "e02933b6f9c04eb68b45d845830b5ace",
       "version_major": 2,
       "version_minor": 0
      },
      "text/plain": [
       "  0%|          | 0/50 [00:00<?, ?it/s]"
      ]
     },
     "metadata": {},
     "output_type": "display_data"
    },
    {
     "data": {
      "application/vnd.jupyter.widget-view+json": {
       "model_id": "87dc537a486b4a10a76907b3fe50e8e7",
       "version_major": 2,
       "version_minor": 0
      },
      "text/plain": [
       "  0%|          | 0/50 [00:00<?, ?it/s]"
      ]
     },
     "metadata": {},
     "output_type": "display_data"
    },
    {
     "data": {
      "application/vnd.jupyter.widget-view+json": {
       "model_id": "118a489f0b5d4f339f50a903fa178ee4",
       "version_major": 2,
       "version_minor": 0
      },
      "text/plain": [
       "  0%|          | 0/50 [00:00<?, ?it/s]"
      ]
     },
     "metadata": {},
     "output_type": "display_data"
    },
    {
     "data": {
      "application/vnd.jupyter.widget-view+json": {
       "model_id": "1d0d763e6c844e7b9e89f290b09afb1b",
       "version_major": 2,
       "version_minor": 0
      },
      "text/plain": [
       "  0%|          | 0/50 [00:00<?, ?it/s]"
      ]
     },
     "metadata": {},
     "output_type": "display_data"
    },
    {
     "data": {
      "application/vnd.jupyter.widget-view+json": {
       "model_id": "2c325a5cb0ce4ad1bcc73f0a5d470e7c",
       "version_major": 2,
       "version_minor": 0
      },
      "text/plain": [
       "  0%|          | 0/50 [00:00<?, ?it/s]"
      ]
     },
     "metadata": {},
     "output_type": "display_data"
    },
    {
     "data": {
      "application/vnd.jupyter.widget-view+json": {
       "model_id": "22885217c44e41b7a71cd49f80f1e43f",
       "version_major": 2,
       "version_minor": 0
      },
      "text/plain": [
       "  0%|          | 0/50 [00:00<?, ?it/s]"
      ]
     },
     "metadata": {},
     "output_type": "display_data"
    },
    {
     "data": {
      "application/vnd.jupyter.widget-view+json": {
       "model_id": "348f4c20ae3348f4988a45359037a3f5",
       "version_major": 2,
       "version_minor": 0
      },
      "text/plain": [
       "  0%|          | 0/50 [00:00<?, ?it/s]"
      ]
     },
     "metadata": {},
     "output_type": "display_data"
    },
    {
     "data": {
      "application/vnd.jupyter.widget-view+json": {
       "model_id": "30f59338cd96457f84f06c7e5e4f91f4",
       "version_major": 2,
       "version_minor": 0
      },
      "text/plain": [
       "  0%|          | 0/50 [00:00<?, ?it/s]"
      ]
     },
     "metadata": {},
     "output_type": "display_data"
    },
    {
     "data": {
      "application/vnd.jupyter.widget-view+json": {
       "model_id": "8439b9a7f05e445c866794390314c73d",
       "version_major": 2,
       "version_minor": 0
      },
      "text/plain": [
       "  0%|          | 0/50 [00:00<?, ?it/s]"
      ]
     },
     "metadata": {},
     "output_type": "display_data"
    },
    {
     "data": {
      "application/vnd.jupyter.widget-view+json": {
       "model_id": "f913b98c8b7847c8b1ddcaf9ea19518f",
       "version_major": 2,
       "version_minor": 0
      },
      "text/plain": [
       "  0%|          | 0/50 [00:00<?, ?it/s]"
      ]
     },
     "metadata": {},
     "output_type": "display_data"
    },
    {
     "data": {
      "application/vnd.jupyter.widget-view+json": {
       "model_id": "abcb8803cf2040129d83ae18fdbc9993",
       "version_major": 2,
       "version_minor": 0
      },
      "text/plain": [
       "  0%|          | 0/50 [00:00<?, ?it/s]"
      ]
     },
     "metadata": {},
     "output_type": "display_data"
    },
    {
     "data": {
      "application/vnd.jupyter.widget-view+json": {
       "model_id": "bcc2a6cfb24a4b32871399ffc53117f4",
       "version_major": 2,
       "version_minor": 0
      },
      "text/plain": [
       "  0%|          | 0/50 [00:00<?, ?it/s]"
      ]
     },
     "metadata": {},
     "output_type": "display_data"
    },
    {
     "data": {
      "application/vnd.jupyter.widget-view+json": {
       "model_id": "52e79ddd18a84fe79ab1641579ddf507",
       "version_major": 2,
       "version_minor": 0
      },
      "text/plain": [
       "  0%|          | 0/50 [00:00<?, ?it/s]"
      ]
     },
     "metadata": {},
     "output_type": "display_data"
    },
    {
     "data": {
      "application/vnd.jupyter.widget-view+json": {
       "model_id": "eb9c0297660c48c98ef2876f8a95a80d",
       "version_major": 2,
       "version_minor": 0
      },
      "text/plain": [
       "  0%|          | 0/50 [00:00<?, ?it/s]"
      ]
     },
     "metadata": {},
     "output_type": "display_data"
    },
    {
     "data": {
      "application/vnd.jupyter.widget-view+json": {
       "model_id": "25b91f9d3c724d039d52e62d51eb5fab",
       "version_major": 2,
       "version_minor": 0
      },
      "text/plain": [
       "  0%|          | 0/50 [00:00<?, ?it/s]"
      ]
     },
     "metadata": {},
     "output_type": "display_data"
    },
    {
     "data": {
      "application/vnd.jupyter.widget-view+json": {
       "model_id": "e883217b5fb746b69515df7a57430e59",
       "version_major": 2,
       "version_minor": 0
      },
      "text/plain": [
       "  0%|          | 0/50 [00:00<?, ?it/s]"
      ]
     },
     "metadata": {},
     "output_type": "display_data"
    },
    {
     "data": {
      "application/vnd.jupyter.widget-view+json": {
       "model_id": "2c63f9f21c43446d8c8cabd71b24c48b",
       "version_major": 2,
       "version_minor": 0
      },
      "text/plain": [
       "  0%|          | 0/50 [00:00<?, ?it/s]"
      ]
     },
     "metadata": {},
     "output_type": "display_data"
    },
    {
     "data": {
      "application/vnd.jupyter.widget-view+json": {
       "model_id": "d20c39fce7e84144aec1fc855193d85f",
       "version_major": 2,
       "version_minor": 0
      },
      "text/plain": [
       "  0%|          | 0/50 [00:00<?, ?it/s]"
      ]
     },
     "metadata": {},
     "output_type": "display_data"
    },
    {
     "data": {
      "application/vnd.jupyter.widget-view+json": {
       "model_id": "4157834841e84056ba92f0196fb0070b",
       "version_major": 2,
       "version_minor": 0
      },
      "text/plain": [
       "  0%|          | 0/50 [00:00<?, ?it/s]"
      ]
     },
     "metadata": {},
     "output_type": "display_data"
    },
    {
     "data": {
      "application/vnd.jupyter.widget-view+json": {
       "model_id": "ee321047068c4ecea839b4d431e5bad5",
       "version_major": 2,
       "version_minor": 0
      },
      "text/plain": [
       "  0%|          | 0/50 [00:00<?, ?it/s]"
      ]
     },
     "metadata": {},
     "output_type": "display_data"
    },
    {
     "data": {
      "application/vnd.jupyter.widget-view+json": {
       "model_id": "2f8abfbb36f1478d80d4c8b785629984",
       "version_major": 2,
       "version_minor": 0
      },
      "text/plain": [
       "  0%|          | 0/50 [00:00<?, ?it/s]"
      ]
     },
     "metadata": {},
     "output_type": "display_data"
    },
    {
     "data": {
      "application/vnd.jupyter.widget-view+json": {
       "model_id": "ec755c6cdec943ef99053114faacdeec",
       "version_major": 2,
       "version_minor": 0
      },
      "text/plain": [
       "  0%|          | 0/50 [00:00<?, ?it/s]"
      ]
     },
     "metadata": {},
     "output_type": "display_data"
    },
    {
     "data": {
      "application/vnd.jupyter.widget-view+json": {
       "model_id": "6e86ffe9708e453f9a68784a7d5f51cf",
       "version_major": 2,
       "version_minor": 0
      },
      "text/plain": [
       "  0%|          | 0/50 [00:00<?, ?it/s]"
      ]
     },
     "metadata": {},
     "output_type": "display_data"
    },
    {
     "data": {
      "application/vnd.jupyter.widget-view+json": {
       "model_id": "f681fc379dda4586a5fb61ed74a14545",
       "version_major": 2,
       "version_minor": 0
      },
      "text/plain": [
       "  0%|          | 0/50 [00:00<?, ?it/s]"
      ]
     },
     "metadata": {},
     "output_type": "display_data"
    },
    {
     "data": {
      "application/vnd.jupyter.widget-view+json": {
       "model_id": "79c17bf0280749b7aa2166ba27669044",
       "version_major": 2,
       "version_minor": 0
      },
      "text/plain": [
       "  0%|          | 0/50 [00:00<?, ?it/s]"
      ]
     },
     "metadata": {},
     "output_type": "display_data"
    },
    {
     "data": {
      "application/vnd.jupyter.widget-view+json": {
       "model_id": "6f99d004d84449c6bb1fd5763c4e7611",
       "version_major": 2,
       "version_minor": 0
      },
      "text/plain": [
       "  0%|          | 0/50 [00:00<?, ?it/s]"
      ]
     },
     "metadata": {},
     "output_type": "display_data"
    }
   ],
   "source": [
    "candidates = []\n",
    "pos_queried = warm_start_x1.clone()\n",
    "pos_labels = warm_start_y1.clone().unsqueeze(1)\n",
    "print(pos_labels.shape, pos_labels.dtype)\n",
    "print(pos_queried.shape, pos_queried.dtype)\n",
    "\n",
    "for epoch_outer in tqdm(range(1, 4001)):\n",
    "    x1_random = torch.normal(0.,1.,size=(1,102), dtype=torch.float32, requires_grad=True)\n",
    "    optimizer1 = torch.optim.AdamW((x1_random,), lr=1.0)\n",
    "    best_loss = 10e5\n",
    "    count = 0\n",
    "    losses = []\n",
    "    for epoch in range(1,100):\n",
    "        optimizer1.zero_grad()\n",
    "        x1_samples = utils.postprocess(\n",
    "            vae1.sample(x1_random.to(device), 100, device, \n",
    "                        **{'tau': 1.0, 'tau_min': 0.1, 'anneal_rate': 3e-5, 'steps': 0, 'hard': False}).squeeze(1),\n",
    "            'adult_income'\n",
    "        )\n",
    "        obj1 = likelihood1(model1(x1_samples.to(device))).variance.sum(axis=0).mean() - lambda_reg * ((x1_random.to(device) - x1_samples)**2).mean()\n",
    "#         print(obj0.shape)\n",
    "        loss = -obj1\n",
    "        loss.backward()\n",
    "        optimizer1.step()\n",
    "        if loss < best_loss:\n",
    "            best_loss = loss\n",
    "            count = 0\n",
    "            losses.append(loss)\n",
    "        else:\n",
    "            count += 1\n",
    "        if count  == 5:\n",
    "            break\n",
    "    x1_query = dfx_1.iloc[np.argmin(np.linalg.norm(np.array(dfx_1) - x1_random.detach().clone().numpy()))]\n",
    "    candidates.append(torch.Tensor([x1_query]).float().to(device))\n",
    "    \n",
    "    if epoch_outer % 100 == 0:\n",
    "        new_vals = torch.concatenate(candidates)\n",
    "        new_queries,_ , _ = vae1(new_vals.to(device), **{'tau': 1.0, 'tau_min': 0.1, 'anneal_rate': 3e-5, 'steps': 0, 'hard': False})\n",
    "        new_labels = blackbox(new_queries)\n",
    "        pos_queried = torch.concatenate([pos_queried, new_queries])\n",
    "        pos_labels = torch.concatenate([pos_labels, (0.5*(torch.sign(new_labels - 0.5) + 1.0)).long().detach().clone()])\n",
    "        model1, likelihood1 = train(pos_queried.detach().clone(),pos_labels.flatten())\n",
    "        model1.eval()\n",
    "        likelihood1.eval()\n",
    "        candidates = []"
   ]
  },
  {
   "cell_type": "code",
   "execution_count": 22,
   "id": "ee3f53a2",
   "metadata": {
    "tags": []
   },
   "outputs": [
    {
     "data": {
      "text/plain": [
       "torch.Size([5000, 1])"
      ]
     },
     "execution_count": 22,
     "metadata": {},
     "output_type": "execute_result"
    }
   ],
   "source": [
    "pos_labels.shape"
   ]
  },
  {
   "cell_type": "code",
   "execution_count": 23,
   "id": "ba3888ca",
   "metadata": {
    "tags": []
   },
   "outputs": [
    {
     "data": {
      "text/plain": [
       "torch.Size([100, 1])"
      ]
     },
     "execution_count": 23,
     "metadata": {},
     "output_type": "execute_result"
    }
   ],
   "source": [
    "new_labels.shape"
   ]
  },
  {
   "cell_type": "code",
   "execution_count": 24,
   "id": "82ea831e",
   "metadata": {
    "tags": []
   },
   "outputs": [
    {
     "data": {
      "text/plain": [
       "0.19911019753072282"
      ]
     },
     "execution_count": 24,
     "metadata": {},
     "output_type": "execute_result"
    }
   ],
   "source": [
    "# parity in data\n",
    "np.abs(dfy[dfx[dfx.gender == 0].index].mean() - dfy[dfx[dfx.gender == 1].index].mean())"
   ]
  },
  {
   "cell_type": "code",
   "execution_count": 25,
   "id": "684ded57",
   "metadata": {
    "tags": []
   },
   "outputs": [],
   "source": [
    "bb_input0 = torch.from_numpy(dfx_0.values).float().to(device)\n",
    "bb_input1 = torch.from_numpy(dfx_1.values).float().to(device)"
   ]
  },
  {
   "cell_type": "code",
   "execution_count": 26,
   "id": "7a4f2648-312a-4892-b559-726fc4f983bd",
   "metadata": {
    "tags": []
   },
   "outputs": [],
   "source": [
    "y0 = blackbox(bb_input0)\n",
    "y1 = blackbox(bb_input1)"
   ]
  },
  {
   "cell_type": "code",
   "execution_count": 27,
   "id": "53cac80a-56d0-45b1-b964-95ca2074d27d",
   "metadata": {
    "tags": []
   },
   "outputs": [],
   "source": [
    "y0_ = torch.round(y0)\n",
    "y1_ = torch.round(y1)"
   ]
  },
  {
   "cell_type": "code",
   "execution_count": 28,
   "id": "7b3f90e4-0472-46e6-909d-04d52f193dfa",
   "metadata": {
    "tags": []
   },
   "outputs": [
    {
     "data": {
      "text/plain": [
       "tensor(7659., device='cuda:0', grad_fn=<SumBackward0>)"
      ]
     },
     "execution_count": 28,
     "metadata": {},
     "output_type": "execute_result"
    }
   ],
   "source": [
    "y0_.sum()"
   ]
  },
  {
   "cell_type": "code",
   "execution_count": 29,
   "id": "30e43df0",
   "metadata": {
    "tags": []
   },
   "outputs": [
    {
     "data": {
      "text/plain": [
       "tensor(0.1869, device='cuda:0', grad_fn=<AbsBackward0>)"
      ]
     },
     "execution_count": 29,
     "metadata": {},
     "output_type": "execute_result"
    }
   ],
   "source": [
    "torch.abs(y0_.mean() - y1_.mean())"
   ]
  },
  {
   "cell_type": "code",
   "execution_count": 35,
   "id": "890e743e",
   "metadata": {
    "tags": []
   },
   "outputs": [
    {
     "data": {
      "text/plain": [
       "tensor(0.0406, device='cuda:0')"
      ]
     },
     "execution_count": 35,
     "metadata": {},
     "output_type": "execute_result"
    }
   ],
   "source": [
    "dp_value = torch.abs(pos_labels.squeeze().float().mean() - neg_labels.squeeze().float().mean())\n",
    "dp_value"
   ]
  },
  {
   "cell_type": "code",
   "execution_count": 36,
   "id": "63f393a6",
   "metadata": {
    "tags": []
   },
   "outputs": [
    {
     "data": {
      "text/plain": [
       "tensor(0.0196, device='cuda:0')"
      ]
     },
     "execution_count": 36,
     "metadata": {},
     "output_type": "execute_result"
    }
   ],
   "source": [
    "pos_labels.float().mean()"
   ]
  },
  {
   "cell_type": "code",
   "execution_count": 37,
   "id": "ea69664a-6988-471e-a299-c9ed538aab04",
   "metadata": {
    "tags": []
   },
   "outputs": [
    {
     "data": {
      "text/plain": [
       "tensor(0.0602, device='cuda:0')"
      ]
     },
     "execution_count": 37,
     "metadata": {},
     "output_type": "execute_result"
    }
   ],
   "source": [
    "neg_labels.float().mean()"
   ]
  },
  {
   "cell_type": "code",
   "execution_count": 39,
   "id": "738ccfdc-775d-494a-a237-9272da4ebdc9",
   "metadata": {},
   "outputs": [],
   "source": [
    "torch.save(dp_value, 'results/adult_income/dp_value_vanilla_vae_reg.pt')"
   ]
  },
  {
   "cell_type": "code",
   "execution_count": 126,
   "id": "f0d9d14a",
   "metadata": {
    "tags": []
   },
   "outputs": [],
   "source": [
    "import scipy"
   ]
  },
  {
   "cell_type": "code",
   "execution_count": 127,
   "id": "3da4618d-3b2e-449e-9a6b-c981643525c2",
   "metadata": {
    "tags": []
   },
   "outputs": [],
   "source": [
    "from scipy.linalg import solve"
   ]
  },
  {
   "cell_type": "code",
   "execution_count": 144,
   "id": "003ec32c-3017-455d-81ce-958dc1bfc637",
   "metadata": {
    "tags": []
   },
   "outputs": [],
   "source": [
    "def exponentiated_quadratic(xa, xb):\n",
    "    \"\"\"Exponentiated quadratic  with σ=1\"\"\"\n",
    "    # L2 distance (Squared Euclidian)\n",
    "    sq_norm = -0.5 * scipy.spatial.distance.cdist(xa, xb, 'sqeuclidean')\n",
    "    return torch.exp(torch.from_numpy(sq_norm))\n",
    "\n",
    "# def compute_variance(x_new, X):\n",
    "#     t11 = kernel(X, X)\n",
    "#     t12 = kernel(X, x_new)\n",
    "#     s = torch.tensor(solve(t11, t12, assume_a='pos').T).float()\n",
    "#     return kernel(x_new, x_new) - s @ t12"
   ]
  },
  {
   "cell_type": "code",
   "execution_count": 145,
   "id": "b01c0d72-19d4-4505-af56-3de3c5a51383",
   "metadata": {
    "tags": []
   },
   "outputs": [],
   "source": [
    "# Sample from the Gaussian process distribution\n",
    "nb_of_samples = 41  # Number of points in each function\n",
    "number_of_functions = 5  # Number of functions to sample\n",
    "# Independent variable samples\n",
    "X = np.expand_dims(np.linspace(-4, 4, nb_of_samples), 1)\n",
    "Σ = exponentiated_quadratic(X, X)  # Kernel of data points\n",
    "\n",
    "# Draw samples from the prior at our data points.\n",
    "# Assume a mean of 0 for simplicity\n",
    "ys = np.random.multivariate_normal(\n",
    "    mean=np.zeros(nb_of_samples), cov=Σ, \n",
    "    size=number_of_functions)"
   ]
  },
  {
   "cell_type": "code",
   "execution_count": 173,
   "id": "cab91027-041e-41f5-9639-34cebf172aa1",
   "metadata": {
    "tags": []
   },
   "outputs": [],
   "source": [
    "def dot_product(xa, xb):\n",
    "    \"\"\"Exponentiated quadratic  with σ=1\"\"\"\n",
    "    # L2 distance (Squared Euclidian)\n",
    "    #sq_norm = scipy.spatial.distance.cdist(xa, xb, 'sqeuclidean')\n",
    "    sq_norm = xa @ xb.t()\n",
    "    return sq_norm\n",
    "\n",
    "# def compute_variance(x_new, X):\n",
    "#     t11 = kernel(X, X)\n",
    "#     t12 = kernel(X, x_new)\n",
    "#     s = torch.tensor(solve(t11, t12, assume_a='pos').T).float()\n",
    "#     return kernel(x_new, x_new) - s @ t12"
   ]
  },
  {
   "cell_type": "code",
   "execution_count": 174,
   "id": "024abece-9bb1-4278-8046-fce0b90ad63b",
   "metadata": {
    "tags": []
   },
   "outputs": [],
   "source": [
    "# Gaussian process posterior\n",
    "def GP(X1, y1, X2, kernel_func):\n",
    "    \"\"\"\n",
    "    Calculate the posterior mean and covariance matrix for y2\n",
    "    based on the corresponding input X2, the observations (y1, X1), \n",
    "    and the prior kernel function.\n",
    "    \"\"\"\n",
    "    # Kernel of the observations\n",
    "    Σ11 = kernel_func(X1, X1)\n",
    "    print(Σ11)\n",
    "    # Kernel of observations vs to-predict\n",
    "    Σ12 = kernel_func(X1, X2)\n",
    "    print(Σ12)\n",
    "    # Solve\n",
    "    solved = scipy.linalg.solve(Σ11, Σ12, assume_a='pos').T\n",
    "    # Compute posterior mean\n",
    "    #μ2 = solved @ y1\n",
    "    # Compute the posterior covariance\n",
    "    Σ22 = kernel_func(X2, X2)\n",
    "    Σ2 = Σ22 - (solved @ Σ12)\n",
    "    return torch.from_numpy(Σ2)  # mean, covariance"
   ]
  },
  {
   "cell_type": "code",
   "execution_count": 177,
   "id": "be60f726-18c8-4a57-aeb0-9750091d1056",
   "metadata": {
    "tags": []
   },
   "outputs": [],
   "source": [
    "x1 = torch.randn(500, 102).float()\n",
    "x2 = torch.randn(1, 102).float()"
   ]
  },
  {
   "cell_type": "code",
   "execution_count": 179,
   "id": "77bce544-25cd-44fc-9f35-3fb1e6686f96",
   "metadata": {
    "tags": []
   },
   "outputs": [
    {
     "name": "stdout",
     "output_type": "stream",
     "text": [
      "tensor([[7.4973, 3.1716, 2.1868,  ..., 2.2750, 2.2070, 3.3804],\n",
      "        [3.1716, 7.1586, 4.1591,  ..., 2.2014, 2.1599, 2.1858],\n",
      "        [2.1868, 4.1591, 7.1614,  ..., 3.2087, 2.1644, 2.2072],\n",
      "        ...,\n",
      "        [2.2750, 2.2014, 3.2087,  ..., 7.2817, 4.2185, 5.3172],\n",
      "        [2.2070, 2.1599, 2.1644,  ..., 4.2185, 7.1704, 5.2357],\n",
      "        [3.3804, 2.1858, 2.2072,  ..., 5.3172, 5.2357, 7.4726]])\n",
      "tensor([[ 2.9916e+00],\n",
      "        [ 1.3425e-01],\n",
      "        [-4.1958e+00],\n",
      "        [ 3.4032e+00],\n",
      "        [ 1.1370e+00],\n",
      "        [-1.9119e+00],\n",
      "        [ 9.8356e-03],\n",
      "        [ 1.9217e+00],\n",
      "        [ 1.1613e-01],\n",
      "        [ 1.2025e+00],\n",
      "        [ 7.9826e-01],\n",
      "        [ 2.4221e+00],\n",
      "        [ 1.9664e+00],\n",
      "        [ 2.3057e+00],\n",
      "        [ 9.7007e-01],\n",
      "        [ 1.6596e+00],\n",
      "        [ 4.1075e+00],\n",
      "        [ 4.8018e-01],\n",
      "        [ 1.2444e+00],\n",
      "        [ 3.6384e-02],\n",
      "        [ 1.0087e+00],\n",
      "        [ 4.5469e+00],\n",
      "        [-1.6493e+00],\n",
      "        [ 1.3175e+00],\n",
      "        [ 2.2986e+00],\n",
      "        [ 1.3514e+00],\n",
      "        [ 1.9494e+00],\n",
      "        [ 3.4198e-01],\n",
      "        [ 1.4529e+00],\n",
      "        [ 3.0578e+00],\n",
      "        [-2.4304e-02],\n",
      "        [ 7.1007e-01],\n",
      "        [ 8.9682e-01],\n",
      "        [ 1.6727e+00],\n",
      "        [-1.5559e+00],\n",
      "        [ 5.4617e-03],\n",
      "        [ 1.1269e+00],\n",
      "        [-1.0945e+00],\n",
      "        [ 3.5339e+00],\n",
      "        [ 3.6785e+00],\n",
      "        [ 2.1483e+00],\n",
      "        [-1.3243e+00],\n",
      "        [ 4.8200e-01],\n",
      "        [ 1.0653e+00],\n",
      "        [-5.0936e-01],\n",
      "        [ 7.2927e-01],\n",
      "        [-7.9723e-02],\n",
      "        [ 3.9768e+00],\n",
      "        [ 2.7880e-01],\n",
      "        [ 9.0569e-01],\n",
      "        [ 1.0491e+00],\n",
      "        [ 3.0754e+00],\n",
      "        [ 2.7899e+00],\n",
      "        [ 4.9662e-01],\n",
      "        [ 3.0401e+00],\n",
      "        [-7.3372e-01],\n",
      "        [-2.5906e+00],\n",
      "        [ 3.1212e+00],\n",
      "        [ 1.8397e+00],\n",
      "        [ 1.7927e+00],\n",
      "        [ 4.4316e+00],\n",
      "        [-3.3374e-01],\n",
      "        [ 1.2849e+00],\n",
      "        [ 1.7281e+00],\n",
      "        [ 1.4122e+00],\n",
      "        [ 1.1705e+00],\n",
      "        [ 2.8353e+00],\n",
      "        [-3.2392e+00],\n",
      "        [ 2.8368e+00],\n",
      "        [ 3.5909e+00],\n",
      "        [ 1.9348e+00],\n",
      "        [-7.0821e-01],\n",
      "        [ 4.8536e-01],\n",
      "        [ 4.4463e-01],\n",
      "        [ 2.0693e+00],\n",
      "        [ 3.4464e+00],\n",
      "        [ 4.4595e-02],\n",
      "        [ 1.0565e+00],\n",
      "        [ 2.4517e+00],\n",
      "        [ 4.1324e-01],\n",
      "        [ 3.4235e-01],\n",
      "        [-1.2295e+00],\n",
      "        [ 1.3230e+00],\n",
      "        [-3.4824e+00],\n",
      "        [ 1.1184e+00],\n",
      "        [ 3.8401e+00],\n",
      "        [ 1.5586e+00],\n",
      "        [ 3.1525e+00],\n",
      "        [-6.9982e-01],\n",
      "        [ 1.5572e+00],\n",
      "        [-1.5942e-01],\n",
      "        [-1.7722e+00],\n",
      "        [ 2.9488e+00],\n",
      "        [ 3.1459e-01],\n",
      "        [-8.3770e-01],\n",
      "        [-1.3916e+00],\n",
      "        [ 1.2162e+00],\n",
      "        [ 1.3698e+00],\n",
      "        [ 3.1568e+00],\n",
      "        [ 1.2178e+00],\n",
      "        [-4.1318e+00],\n",
      "        [ 1.0526e+00],\n",
      "        [-1.0366e+00],\n",
      "        [-3.6220e+00],\n",
      "        [ 2.6566e+00],\n",
      "        [ 3.7272e-02],\n",
      "        [-1.7654e+00],\n",
      "        [ 1.9294e+00],\n",
      "        [ 2.1272e+00],\n",
      "        [ 1.3104e+00],\n",
      "        [ 3.1371e+00],\n",
      "        [ 2.5988e+00],\n",
      "        [ 2.1227e-01],\n",
      "        [-2.3115e+00],\n",
      "        [ 1.0646e+00],\n",
      "        [ 1.1400e+00],\n",
      "        [ 3.1051e-02],\n",
      "        [ 1.3999e+00],\n",
      "        [ 3.2119e+00],\n",
      "        [ 1.1822e+00],\n",
      "        [-5.0935e-01],\n",
      "        [ 3.5114e+00],\n",
      "        [ 2.7954e+00],\n",
      "        [ 3.4068e+00],\n",
      "        [-8.3692e-01],\n",
      "        [-9.7875e-01],\n",
      "        [ 1.7595e+00],\n",
      "        [ 1.9886e+00],\n",
      "        [-9.5868e-01],\n",
      "        [ 4.0605e-01],\n",
      "        [-4.5717e-01],\n",
      "        [-6.3662e-02],\n",
      "        [ 3.0371e+00],\n",
      "        [ 4.6922e-01],\n",
      "        [ 3.5235e+00],\n",
      "        [ 4.0556e+00],\n",
      "        [-9.6495e-01],\n",
      "        [ 1.9981e+00],\n",
      "        [-8.9340e-02],\n",
      "        [-2.5467e+00],\n",
      "        [ 2.2557e+00],\n",
      "        [-5.1576e-01],\n",
      "        [-1.0559e+00],\n",
      "        [ 1.1357e+00],\n",
      "        [ 4.1351e+00],\n",
      "        [ 1.6150e+00],\n",
      "        [ 2.8478e-01],\n",
      "        [-2.1268e+00],\n",
      "        [ 1.6012e+00],\n",
      "        [ 3.7671e+00],\n",
      "        [-8.6523e-01],\n",
      "        [ 4.0138e-02],\n",
      "        [ 2.6527e+00],\n",
      "        [-4.3242e+00],\n",
      "        [ 1.2940e+00],\n",
      "        [-3.0442e-01],\n",
      "        [ 3.9902e+00],\n",
      "        [ 9.2615e-01],\n",
      "        [ 5.4122e-01],\n",
      "        [-1.5828e+00],\n",
      "        [ 8.5829e-01],\n",
      "        [ 2.5877e+00],\n",
      "        [ 1.1977e+00],\n",
      "        [ 1.2372e+00],\n",
      "        [ 2.5551e+00],\n",
      "        [ 2.4463e+00],\n",
      "        [-8.2326e-01],\n",
      "        [ 2.4861e+00],\n",
      "        [ 1.9248e+00],\n",
      "        [ 2.4983e-01],\n",
      "        [-3.3354e-01],\n",
      "        [ 1.3477e+00],\n",
      "        [ 2.1739e+00],\n",
      "        [-5.3449e-01],\n",
      "        [ 4.7791e-01],\n",
      "        [ 7.9984e-01],\n",
      "        [ 2.2672e+00],\n",
      "        [-8.8336e-02],\n",
      "        [ 5.2833e-01],\n",
      "        [ 1.6920e+00],\n",
      "        [ 1.2437e+00],\n",
      "        [-4.6203e-02],\n",
      "        [ 3.7864e-01],\n",
      "        [ 7.8385e-01],\n",
      "        [ 2.7231e+00],\n",
      "        [ 2.2573e+00],\n",
      "        [ 3.9949e+00],\n",
      "        [-2.0420e+00],\n",
      "        [ 1.0915e+00],\n",
      "        [ 1.9428e+00],\n",
      "        [ 2.0399e+00],\n",
      "        [ 8.4534e-01],\n",
      "        [ 1.6513e+00],\n",
      "        [-1.4309e+00],\n",
      "        [ 2.1467e+00],\n",
      "        [ 1.1756e+00],\n",
      "        [-9.3691e-01],\n",
      "        [ 7.2655e-01],\n",
      "        [ 2.0688e+00],\n",
      "        [ 1.6838e+00],\n",
      "        [ 3.2968e+00],\n",
      "        [ 1.3309e+00],\n",
      "        [ 3.3690e+00],\n",
      "        [-9.0159e-01],\n",
      "        [ 2.7364e+00],\n",
      "        [-8.6070e-01],\n",
      "        [ 2.5186e+00],\n",
      "        [-2.6418e+00],\n",
      "        [ 7.8791e-01],\n",
      "        [ 8.1458e-01],\n",
      "        [ 9.1103e-01],\n",
      "        [ 1.9480e+00],\n",
      "        [ 8.9473e-01],\n",
      "        [ 8.2132e-01],\n",
      "        [ 2.7423e-01],\n",
      "        [ 1.1806e+00],\n",
      "        [-1.5531e-01],\n",
      "        [-1.2116e+00],\n",
      "        [ 1.2108e+00],\n",
      "        [-1.3971e-01],\n",
      "        [-1.0366e+00],\n",
      "        [ 1.5755e+00],\n",
      "        [ 3.7067e+00],\n",
      "        [ 2.5096e+00],\n",
      "        [ 2.6760e-01],\n",
      "        [ 2.5804e+00],\n",
      "        [ 1.9184e+00],\n",
      "        [ 1.0664e+00],\n",
      "        [ 1.6939e+00],\n",
      "        [ 1.7613e+00],\n",
      "        [-3.4801e+00],\n",
      "        [ 3.4886e+00],\n",
      "        [ 4.3422e+00],\n",
      "        [ 2.8983e+00],\n",
      "        [ 2.2432e+00],\n",
      "        [ 9.6744e-01],\n",
      "        [-3.1372e-01],\n",
      "        [ 2.2077e+00],\n",
      "        [ 1.6246e+00],\n",
      "        [ 1.4135e+00],\n",
      "        [ 1.0703e+00],\n",
      "        [ 2.1034e-01],\n",
      "        [ 1.7267e-01],\n",
      "        [ 3.1373e+00],\n",
      "        [ 2.8514e+00],\n",
      "        [ 2.7884e+00],\n",
      "        [ 2.0973e+00],\n",
      "        [-2.5182e-01],\n",
      "        [ 1.7800e+00],\n",
      "        [-7.5674e-01],\n",
      "        [ 3.1931e+00],\n",
      "        [ 1.4523e+00],\n",
      "        [ 2.1461e+00],\n",
      "        [ 1.7187e+00],\n",
      "        [ 3.1269e+00],\n",
      "        [ 2.0705e+00],\n",
      "        [-2.1219e+00],\n",
      "        [-2.0663e+00],\n",
      "        [ 3.6211e+00],\n",
      "        [ 1.5725e+00],\n",
      "        [ 6.4125e-01],\n",
      "        [-3.0755e+00],\n",
      "        [ 1.5653e+00],\n",
      "        [ 1.0167e+00],\n",
      "        [-8.4726e-01],\n",
      "        [-5.4846e-01],\n",
      "        [ 2.3170e+00],\n",
      "        [ 1.9125e+00],\n",
      "        [-1.1389e+00],\n",
      "        [-1.3534e-01],\n",
      "        [ 1.0623e+00],\n",
      "        [ 2.3450e-01],\n",
      "        [ 4.5681e+00],\n",
      "        [-2.3719e+00],\n",
      "        [-9.3740e-01],\n",
      "        [-1.1667e-01],\n",
      "        [ 2.6670e+00],\n",
      "        [ 5.9852e-01],\n",
      "        [ 5.1455e-01],\n",
      "        [ 3.7292e-01],\n",
      "        [ 8.8834e-01],\n",
      "        [-3.7232e-01],\n",
      "        [-1.5830e+00],\n",
      "        [ 1.8743e+00],\n",
      "        [ 3.0823e-01],\n",
      "        [ 1.3408e+00],\n",
      "        [-1.6998e+00],\n",
      "        [-7.6067e-01],\n",
      "        [-4.6805e-01],\n",
      "        [-1.8612e+00],\n",
      "        [ 1.4323e+00],\n",
      "        [ 2.8441e+00],\n",
      "        [-9.9437e-01],\n",
      "        [ 1.3917e+00],\n",
      "        [ 4.2966e+00],\n",
      "        [ 2.6233e+00],\n",
      "        [-2.7565e+00],\n",
      "        [-6.2031e-01],\n",
      "        [ 2.3822e+00],\n",
      "        [ 1.7502e+00],\n",
      "        [-1.6703e+00],\n",
      "        [-6.5513e-01],\n",
      "        [ 4.4446e-01],\n",
      "        [ 5.4108e-01],\n",
      "        [ 2.3650e+00],\n",
      "        [-9.9804e-01],\n",
      "        [ 1.3944e+00],\n",
      "        [ 1.1893e+00],\n",
      "        [-1.5430e-01],\n",
      "        [ 2.2408e+00],\n",
      "        [ 2.0976e+00],\n",
      "        [ 3.2930e+00],\n",
      "        [ 2.9458e+00],\n",
      "        [-1.3964e+00],\n",
      "        [ 8.8339e-01],\n",
      "        [-8.5309e-01],\n",
      "        [ 9.8820e-01],\n",
      "        [ 5.7957e+00],\n",
      "        [ 3.2303e-01],\n",
      "        [-2.5770e-01],\n",
      "        [ 4.4668e-01],\n",
      "        [ 2.3230e+00],\n",
      "        [ 1.9797e+00],\n",
      "        [-5.9726e-01],\n",
      "        [ 2.3071e+00],\n",
      "        [ 1.2871e+00],\n",
      "        [ 2.0503e+00],\n",
      "        [-4.5789e-01],\n",
      "        [ 3.9221e-01],\n",
      "        [-3.0602e-01],\n",
      "        [ 6.6531e-01],\n",
      "        [ 1.7025e+00],\n",
      "        [ 1.5302e+00],\n",
      "        [-1.4662e+00],\n",
      "        [ 2.0769e+00],\n",
      "        [ 4.8835e+00],\n",
      "        [ 1.5627e+00],\n",
      "        [ 2.7833e+00],\n",
      "        [ 9.5883e-01],\n",
      "        [-2.4296e+00],\n",
      "        [ 3.4476e-01],\n",
      "        [ 1.5480e+00],\n",
      "        [ 3.3210e+00],\n",
      "        [ 3.3389e+00],\n",
      "        [-1.6145e+00],\n",
      "        [ 9.6385e-01],\n",
      "        [ 1.0636e-01],\n",
      "        [ 1.3873e+00],\n",
      "        [ 1.5267e+00],\n",
      "        [ 2.5656e+00],\n",
      "        [ 2.1859e-01],\n",
      "        [ 4.2264e+00],\n",
      "        [ 8.5500e-01],\n",
      "        [ 1.5331e-01],\n",
      "        [-6.8098e-01],\n",
      "        [ 4.2875e-01],\n",
      "        [ 2.9637e-01],\n",
      "        [ 3.0089e+00],\n",
      "        [-1.3080e-01],\n",
      "        [ 3.2248e+00],\n",
      "        [-1.9652e+00],\n",
      "        [ 5.8308e-01],\n",
      "        [ 1.5214e+00],\n",
      "        [-3.4533e+00],\n",
      "        [ 1.8188e+00],\n",
      "        [ 1.0585e+00],\n",
      "        [ 1.5798e+00],\n",
      "        [ 1.9386e+00],\n",
      "        [ 2.0458e+00],\n",
      "        [-8.8310e-01],\n",
      "        [ 2.6672e+00],\n",
      "        [ 6.1481e-01],\n",
      "        [-1.5840e+00],\n",
      "        [ 3.6135e+00],\n",
      "        [ 6.7748e-01],\n",
      "        [-1.5230e-01],\n",
      "        [ 5.9489e-01],\n",
      "        [ 6.6257e-01],\n",
      "        [-2.2208e+00],\n",
      "        [-2.3033e-01],\n",
      "        [ 1.9390e+00],\n",
      "        [ 8.6101e-01],\n",
      "        [-3.0723e-01],\n",
      "        [-1.9276e+00],\n",
      "        [-6.3151e-01],\n",
      "        [ 1.2527e+00],\n",
      "        [-5.5694e-01],\n",
      "        [ 2.3758e+00],\n",
      "        [ 1.6124e+00],\n",
      "        [ 4.2393e-01],\n",
      "        [ 9.7553e-01],\n",
      "        [ 1.3326e+00],\n",
      "        [ 2.2818e+00],\n",
      "        [ 8.0345e-01],\n",
      "        [ 1.1310e+00],\n",
      "        [-1.1415e+00],\n",
      "        [ 3.0722e+00],\n",
      "        [ 5.2752e-01],\n",
      "        [ 1.6066e+00],\n",
      "        [-1.4700e+00],\n",
      "        [ 2.3195e+00],\n",
      "        [ 1.0905e+00],\n",
      "        [-3.1372e-01],\n",
      "        [ 3.0663e+00],\n",
      "        [-4.1639e+00],\n",
      "        [ 1.1975e+00],\n",
      "        [ 1.2860e+00],\n",
      "        [-3.0281e+00],\n",
      "        [-6.8924e-01],\n",
      "        [ 7.3001e-03],\n",
      "        [-5.4779e-01],\n",
      "        [ 3.2038e+00],\n",
      "        [ 3.0554e+00],\n",
      "        [ 3.0500e+00],\n",
      "        [-9.9940e-01],\n",
      "        [ 9.4764e-01],\n",
      "        [ 9.7865e-01],\n",
      "        [ 2.8515e+00],\n",
      "        [-1.0779e+00],\n",
      "        [ 2.0601e+00],\n",
      "        [ 3.5285e+00],\n",
      "        [ 3.6883e+00],\n",
      "        [ 1.0062e+00],\n",
      "        [-2.2412e-01],\n",
      "        [-1.2483e+00],\n",
      "        [-7.7086e-01],\n",
      "        [-2.4545e-01],\n",
      "        [ 4.8352e-01],\n",
      "        [-6.8098e-01],\n",
      "        [ 4.2039e-01],\n",
      "        [ 1.7362e+00],\n",
      "        [ 1.6534e+00],\n",
      "        [-2.3864e-01],\n",
      "        [-6.9711e-02],\n",
      "        [-3.7596e+00],\n",
      "        [-9.0930e-03],\n",
      "        [-1.6851e+00],\n",
      "        [ 1.2371e+00],\n",
      "        [ 4.2550e+00],\n",
      "        [-7.7568e-01],\n",
      "        [-2.6719e+00],\n",
      "        [-1.4293e-01],\n",
      "        [-1.3369e+00],\n",
      "        [ 1.7320e+00],\n",
      "        [-1.6183e+00],\n",
      "        [ 2.4445e+00],\n",
      "        [ 2.4924e+00],\n",
      "        [ 1.7809e+00],\n",
      "        [ 2.0204e+00],\n",
      "        [ 7.7055e-01],\n",
      "        [ 1.2539e+00],\n",
      "        [-1.4965e+00],\n",
      "        [ 2.3796e+00],\n",
      "        [-6.2835e-01],\n",
      "        [-3.4120e-01],\n",
      "        [ 1.2174e+00],\n",
      "        [ 2.6092e-01],\n",
      "        [ 1.0470e+00],\n",
      "        [ 6.5012e-01],\n",
      "        [ 1.0166e+00],\n",
      "        [ 1.2674e+00],\n",
      "        [ 4.9546e-01],\n",
      "        [ 5.0110e-01],\n",
      "        [ 1.7031e+00],\n",
      "        [ 5.4343e-01],\n",
      "        [-4.9499e-01],\n",
      "        [ 2.2244e+00],\n",
      "        [-1.5949e-02],\n",
      "        [ 1.9400e+00],\n",
      "        [-5.3778e-01],\n",
      "        [ 5.2679e-01],\n",
      "        [ 2.8921e-01],\n",
      "        [ 2.3951e+00],\n",
      "        [-1.3499e+00],\n",
      "        [ 3.1589e+00],\n",
      "        [-2.3079e+00],\n",
      "        [ 3.3074e+00],\n",
      "        [-1.3780e+00],\n",
      "        [ 3.4307e-01],\n",
      "        [ 1.7041e+00],\n",
      "        [-5.8705e-01],\n",
      "        [ 2.5683e+00],\n",
      "        [ 2.4549e+00],\n",
      "        [ 3.2807e+00],\n",
      "        [ 3.6173e+00],\n",
      "        [-1.4956e+00],\n",
      "        [ 3.5041e+00],\n",
      "        [-1.7158e+00],\n",
      "        [-1.0752e+00],\n",
      "        [ 6.0237e-01],\n",
      "        [ 1.1307e+00],\n",
      "        [ 1.7155e+00],\n",
      "        [ 7.1812e-01],\n",
      "        [-1.5861e+00],\n",
      "        [-3.1743e-01],\n",
      "        [ 2.0977e+00],\n",
      "        [ 8.5016e-02],\n",
      "        [ 8.4161e-01],\n",
      "        [ 1.1198e+00],\n",
      "        [ 3.7825e+00]])\n"
     ]
    },
    {
     "ename": "LinAlgError",
     "evalue": "Matrix is singular.",
     "output_type": "error",
     "traceback": [
      "\u001b[0;31m---------------------------------------------------------------------------\u001b[0m",
      "\u001b[0;31mLinAlgError\u001b[0m                               Traceback (most recent call last)",
      "Cell \u001b[0;32mIn[179], line 1\u001b[0m\n\u001b[0;32m----> 1\u001b[0m \u001b[43mGP\u001b[49m\u001b[43m(\u001b[49m\u001b[43mwarm_start_x0\u001b[49m\u001b[38;5;241;43m.\u001b[39;49m\u001b[43mcpu\u001b[49m\u001b[43m(\u001b[49m\u001b[43m)\u001b[49m\u001b[38;5;241;43m.\u001b[39;49m\u001b[43mclone\u001b[49m\u001b[43m(\u001b[49m\u001b[43m)\u001b[49m\u001b[38;5;241;43m.\u001b[39;49m\u001b[43mfloat\u001b[49m\u001b[43m(\u001b[49m\u001b[43m)\u001b[49m\u001b[43m,\u001b[49m\u001b[43m \u001b[49m\u001b[38;5;28;43;01mNone\u001b[39;49;00m\u001b[43m,\u001b[49m\u001b[43m \u001b[49m\u001b[43mx2\u001b[49m\u001b[43m,\u001b[49m\u001b[43m \u001b[49m\u001b[43mdot_product\u001b[49m\u001b[43m)\u001b[49m\n",
      "Cell \u001b[0;32mIn[174], line 15\u001b[0m, in \u001b[0;36mGP\u001b[0;34m(X1, y1, X2, kernel_func)\u001b[0m\n\u001b[1;32m     13\u001b[0m \u001b[38;5;28mprint\u001b[39m(Σ12)\n\u001b[1;32m     14\u001b[0m \u001b[38;5;66;03m# Solve\u001b[39;00m\n\u001b[0;32m---> 15\u001b[0m solved \u001b[38;5;241m=\u001b[39m \u001b[43mscipy\u001b[49m\u001b[38;5;241;43m.\u001b[39;49m\u001b[43mlinalg\u001b[49m\u001b[38;5;241;43m.\u001b[39;49m\u001b[43msolve\u001b[49m\u001b[43m(\u001b[49m\u001b[43mΣ11\u001b[49m\u001b[43m,\u001b[49m\u001b[43m \u001b[49m\u001b[43mΣ12\u001b[49m\u001b[43m,\u001b[49m\u001b[43m \u001b[49m\u001b[43massume_a\u001b[49m\u001b[38;5;241;43m=\u001b[39;49m\u001b[38;5;124;43m'\u001b[39;49m\u001b[38;5;124;43mpos\u001b[39;49m\u001b[38;5;124;43m'\u001b[39;49m\u001b[43m)\u001b[49m\u001b[38;5;241m.\u001b[39mT\n\u001b[1;32m     16\u001b[0m \u001b[38;5;66;03m# Compute posterior mean\u001b[39;00m\n\u001b[1;32m     17\u001b[0m \u001b[38;5;66;03m#μ2 = solved @ y1\u001b[39;00m\n\u001b[1;32m     18\u001b[0m \u001b[38;5;66;03m# Compute the posterior covariance\u001b[39;00m\n\u001b[1;32m     19\u001b[0m Σ22 \u001b[38;5;241m=\u001b[39m kernel_func(X2, X2)\n",
      "File \u001b[0;32m/mnt/infonas/data/eeshaan/fairness/elk_audit/lib/python3.9/site-packages/scipy/linalg/_basic.py:257\u001b[0m, in \u001b[0;36msolve\u001b[0;34m(a, b, sym_pos, lower, overwrite_a, overwrite_b, check_finite, assume_a, transposed)\u001b[0m\n\u001b[1;32m    252\u001b[0m     pocon, posv \u001b[38;5;241m=\u001b[39m get_lapack_funcs((\u001b[38;5;124m'\u001b[39m\u001b[38;5;124mpocon\u001b[39m\u001b[38;5;124m'\u001b[39m, \u001b[38;5;124m'\u001b[39m\u001b[38;5;124mposv\u001b[39m\u001b[38;5;124m'\u001b[39m),\n\u001b[1;32m    253\u001b[0m                                    (a1, b1))\n\u001b[1;32m    254\u001b[0m     lu, x, info \u001b[38;5;241m=\u001b[39m posv(a1, b1, lower\u001b[38;5;241m=\u001b[39mlower,\n\u001b[1;32m    255\u001b[0m                        overwrite_a\u001b[38;5;241m=\u001b[39moverwrite_a,\n\u001b[1;32m    256\u001b[0m                        overwrite_b\u001b[38;5;241m=\u001b[39moverwrite_b)\n\u001b[0;32m--> 257\u001b[0m     \u001b[43m_solve_check\u001b[49m\u001b[43m(\u001b[49m\u001b[43mn\u001b[49m\u001b[43m,\u001b[49m\u001b[43m \u001b[49m\u001b[43minfo\u001b[49m\u001b[43m)\u001b[49m\n\u001b[1;32m    258\u001b[0m     rcond, info \u001b[38;5;241m=\u001b[39m pocon(lu, anorm)\n\u001b[1;32m    260\u001b[0m _solve_check(n, info, lamch, rcond)\n",
      "File \u001b[0;32m/mnt/infonas/data/eeshaan/fairness/elk_audit/lib/python3.9/site-packages/scipy/linalg/_basic.py:29\u001b[0m, in \u001b[0;36m_solve_check\u001b[0;34m(n, info, lamch, rcond)\u001b[0m\n\u001b[1;32m     26\u001b[0m     \u001b[38;5;28;01mraise\u001b[39;00m \u001b[38;5;167;01mValueError\u001b[39;00m(\u001b[38;5;124m'\u001b[39m\u001b[38;5;124mLAPACK reported an illegal value in \u001b[39m\u001b[38;5;132;01m{}\u001b[39;00m\u001b[38;5;124m-th argument\u001b[39m\u001b[38;5;124m'\u001b[39m\n\u001b[1;32m     27\u001b[0m                      \u001b[38;5;124m'\u001b[39m\u001b[38;5;124m.\u001b[39m\u001b[38;5;124m'\u001b[39m\u001b[38;5;241m.\u001b[39mformat(\u001b[38;5;241m-\u001b[39minfo))\n\u001b[1;32m     28\u001b[0m \u001b[38;5;28;01melif\u001b[39;00m \u001b[38;5;241m0\u001b[39m \u001b[38;5;241m<\u001b[39m info:\n\u001b[0;32m---> 29\u001b[0m     \u001b[38;5;28;01mraise\u001b[39;00m LinAlgError(\u001b[38;5;124m'\u001b[39m\u001b[38;5;124mMatrix is singular.\u001b[39m\u001b[38;5;124m'\u001b[39m)\n\u001b[1;32m     31\u001b[0m \u001b[38;5;28;01mif\u001b[39;00m lamch \u001b[38;5;129;01mis\u001b[39;00m \u001b[38;5;28;01mNone\u001b[39;00m:\n\u001b[1;32m     32\u001b[0m     \u001b[38;5;28;01mreturn\u001b[39;00m\n",
      "\u001b[0;31mLinAlgError\u001b[0m: Matrix is singular."
     ]
    }
   ],
   "source": [
    "GP(warm_start_x0.cpu().clone().float(), None, x2, dot_product)"
   ]
  },
  {
   "cell_type": "code",
   "execution_count": 147,
   "id": "8c59c4f0-f843-4085-a3f4-67e7da6616fb",
   "metadata": {
    "tags": []
   },
   "outputs": [],
   "source": [
    "# Compute the posterior mean and covariance\n",
    "\n",
    "# Define the true function that we want to regress on\n",
    "f_sin = lambda x: (np.sin(x)).flatten()\n",
    "\n",
    "n1 = 8  # Number of points to condition on (training points)\n",
    "n2 = 75  # Number of points in posterior (test points)\n",
    "ny = 5  # Number of functions that will be sampled from the posterior\n",
    "domain = (-6, 6)\n",
    "\n",
    "# Sample observations (X1, y1) on the function\n",
    "X1 = np.random.uniform(domain[0]+2, domain[1]-2, size=(n1, 1))\n",
    "y1 = f_sin(X1)\n",
    "# Predict points at uniform spacing to capture function\n",
    "X2 = np.linspace(domain[0], domain[1], n2).reshape(-1, 1)\n",
    "# Compute posterior mean and covariance\n",
    "μ2, Σ2 = GP(X1, y1, X2, exponentiated_quadratic)\n",
    "# Compute the standard deviation at the test points to be plotted\n",
    "σ2 = np.sqrt(np.diag(Σ2))\n",
    "\n",
    "# Draw some samples of the posterior\n",
    "y2 = np.random.multivariate_normal(mean=μ2, cov=Σ2, size=ny)"
   ]
  },
  {
   "cell_type": "code",
   "execution_count": 148,
   "id": "5df7ec1a-1526-41e0-8bb7-9a31c7483130",
   "metadata": {
    "tags": []
   },
   "outputs": [],
   "source": [
    "import matplotlib.pyplot as plt"
   ]
  },
  {
   "cell_type": "code",
   "execution_count": 149,
   "id": "e7e9a6ba-2fb4-49db-a4ae-8a530dbf874c",
   "metadata": {
    "tags": []
   },
   "outputs": [
    {
     "data": {
      "image/png": "[encoded data removed]",
      "text/plain": [
       "<Figure size 600x600 with 2 Axes>"
      ]
     },
     "metadata": {},
     "output_type": "display_data"
    }
   ],
   "source": [
    "fig, (ax1, ax2) = plt.subplots(\n",
    "    nrows=2, ncols=1, figsize=(6, 6))\n",
    "# Plot the distribution of the function (mean, covariance)\n",
    "ax1.plot(X2, f_sin(X2), 'b--', label='$sin(x)$')\n",
    "ax1.fill_between(X2.flat, μ2-2*σ2, μ2+2*σ2, color='red', \n",
    "                 alpha=0.15, label='$2 \\sigma_{2|1}$')\n",
    "ax1.plot(X2, μ2, 'r-', lw=2, label='$\\mu_{2|1}$')\n",
    "ax1.plot(X1, y1, 'ko', linewidth=2, label='$(x_1, y_1)$')\n",
    "ax1.set_xlabel('$x$', fontsize=13)\n",
    "ax1.set_ylabel('$y$', fontsize=13)\n",
    "ax1.set_title('Distribution of posterior and prior data.')\n",
    "ax1.axis([domain[0], domain[1], -3, 3])\n",
    "ax1.legend()\n",
    "# Plot some samples from this function\n",
    "ax2.plot(X2, y2.T, '-')\n",
    "ax2.set_xlabel('$x$', fontsize=13)\n",
    "ax2.set_ylabel('$y$', fontsize=13)\n",
    "ax2.set_title('5 different function realizations from posterior')\n",
    "ax1.axis([domain[0], domain[1], -3, 3])\n",
    "ax2.set_xlim([-6, 6])\n",
    "plt.tight_layout()\n",
    "plt.show()"
   ]
  },
  {
   "cell_type": "code",
   "execution_count": null,
   "id": "5aa6792a-d6cd-4dc7-86bc-4ffb9f95ea5f",
   "metadata": {},
   "outputs": [],
   "source": []
  },
  {
   "cell_type": "code",
   "execution_count": 139,
   "id": "54d2c291-8e3b-4040-8ebd-124ffbb56b70",
   "metadata": {
    "tags": []
   },
   "outputs": [],
   "source": [
    "x1 = torch.randn(500, 102)\n",
    "x2 = torch.randn(1, 102)"
   ]
  },
  {
   "cell_type": "code",
   "execution_count": 140,
   "id": "1734aa1d-3b7e-4477-993c-7a17341d4759",
   "metadata": {
    "tags": []
   },
   "outputs": [
    {
     "ename": "LinAlgError",
     "evalue": "Matrix is singular.",
     "output_type": "error",
     "traceback": [
      "\u001b[0;31m---------------------------------------------------------------------------\u001b[0m",
      "\u001b[0;31mLinAlgError\u001b[0m                               Traceback (most recent call last)",
      "Cell \u001b[0;32mIn[140], line 1\u001b[0m\n\u001b[0;32m----> 1\u001b[0m \u001b[43mcompute_variance\u001b[49m\u001b[43m(\u001b[49m\u001b[43mx2\u001b[49m\u001b[43m,\u001b[49m\u001b[43m \u001b[49m\u001b[43mx1\u001b[49m\u001b[43m)\u001b[49m\n",
      "Cell \u001b[0;32mIn[138], line 10\u001b[0m, in \u001b[0;36mcompute_variance\u001b[0;34m(x_new, X)\u001b[0m\n\u001b[1;32m      8\u001b[0m t11 \u001b[38;5;241m=\u001b[39m kernel(X, X)\n\u001b[1;32m      9\u001b[0m t12 \u001b[38;5;241m=\u001b[39m kernel(X, x_new)\n\u001b[0;32m---> 10\u001b[0m s \u001b[38;5;241m=\u001b[39m torch\u001b[38;5;241m.\u001b[39mtensor(\u001b[43msolve\u001b[49m\u001b[43m(\u001b[49m\u001b[43mt11\u001b[49m\u001b[43m,\u001b[49m\u001b[43m \u001b[49m\u001b[43mt12\u001b[49m\u001b[43m,\u001b[49m\u001b[43m \u001b[49m\u001b[43massume_a\u001b[49m\u001b[38;5;241;43m=\u001b[39;49m\u001b[38;5;124;43m'\u001b[39;49m\u001b[38;5;124;43mpos\u001b[39;49m\u001b[38;5;124;43m'\u001b[39;49m\u001b[43m)\u001b[49m\u001b[38;5;241m.\u001b[39mT)\u001b[38;5;241m.\u001b[39mfloat()\n\u001b[1;32m     11\u001b[0m \u001b[38;5;28;01mreturn\u001b[39;00m kernel(x_new, x_new) \u001b[38;5;241m-\u001b[39m s \u001b[38;5;241m@\u001b[39m t12\n",
      "File \u001b[0;32m/mnt/infonas/data/eeshaan/fairness/elk_audit/lib/python3.9/site-packages/scipy/linalg/_basic.py:257\u001b[0m, in \u001b[0;36msolve\u001b[0;34m(a, b, sym_pos, lower, overwrite_a, overwrite_b, check_finite, assume_a, transposed)\u001b[0m\n\u001b[1;32m    252\u001b[0m     pocon, posv \u001b[38;5;241m=\u001b[39m get_lapack_funcs((\u001b[38;5;124m'\u001b[39m\u001b[38;5;124mpocon\u001b[39m\u001b[38;5;124m'\u001b[39m, \u001b[38;5;124m'\u001b[39m\u001b[38;5;124mposv\u001b[39m\u001b[38;5;124m'\u001b[39m),\n\u001b[1;32m    253\u001b[0m                                    (a1, b1))\n\u001b[1;32m    254\u001b[0m     lu, x, info \u001b[38;5;241m=\u001b[39m posv(a1, b1, lower\u001b[38;5;241m=\u001b[39mlower,\n\u001b[1;32m    255\u001b[0m                        overwrite_a\u001b[38;5;241m=\u001b[39moverwrite_a,\n\u001b[1;32m    256\u001b[0m                        overwrite_b\u001b[38;5;241m=\u001b[39moverwrite_b)\n\u001b[0;32m--> 257\u001b[0m     \u001b[43m_solve_check\u001b[49m\u001b[43m(\u001b[49m\u001b[43mn\u001b[49m\u001b[43m,\u001b[49m\u001b[43m \u001b[49m\u001b[43minfo\u001b[49m\u001b[43m)\u001b[49m\n\u001b[1;32m    258\u001b[0m     rcond, info \u001b[38;5;241m=\u001b[39m pocon(lu, anorm)\n\u001b[1;32m    260\u001b[0m _solve_check(n, info, lamch, rcond)\n",
      "File \u001b[0;32m/mnt/infonas/data/eeshaan/fairness/elk_audit/lib/python3.9/site-packages/scipy/linalg/_basic.py:29\u001b[0m, in \u001b[0;36m_solve_check\u001b[0;34m(n, info, lamch, rcond)\u001b[0m\n\u001b[1;32m     26\u001b[0m     \u001b[38;5;28;01mraise\u001b[39;00m \u001b[38;5;167;01mValueError\u001b[39;00m(\u001b[38;5;124m'\u001b[39m\u001b[38;5;124mLAPACK reported an illegal value in \u001b[39m\u001b[38;5;132;01m{}\u001b[39;00m\u001b[38;5;124m-th argument\u001b[39m\u001b[38;5;124m'\u001b[39m\n\u001b[1;32m     27\u001b[0m                      \u001b[38;5;124m'\u001b[39m\u001b[38;5;124m.\u001b[39m\u001b[38;5;124m'\u001b[39m\u001b[38;5;241m.\u001b[39mformat(\u001b[38;5;241m-\u001b[39minfo))\n\u001b[1;32m     28\u001b[0m \u001b[38;5;28;01melif\u001b[39;00m \u001b[38;5;241m0\u001b[39m \u001b[38;5;241m<\u001b[39m info:\n\u001b[0;32m---> 29\u001b[0m     \u001b[38;5;28;01mraise\u001b[39;00m LinAlgError(\u001b[38;5;124m'\u001b[39m\u001b[38;5;124mMatrix is singular.\u001b[39m\u001b[38;5;124m'\u001b[39m)\n\u001b[1;32m     31\u001b[0m \u001b[38;5;28;01mif\u001b[39;00m lamch \u001b[38;5;129;01mis\u001b[39;00m \u001b[38;5;28;01mNone\u001b[39;00m:\n\u001b[1;32m     32\u001b[0m     \u001b[38;5;28;01mreturn\u001b[39;00m\n",
      "\u001b[0;31mLinAlgError\u001b[0m: Matrix is singular."
     ]
    }
   ],
   "source": [
    "compute_variance(x2, x1)"
   ]
  },
  {
   "cell_type": "code",
   "execution_count": null,
   "id": "fb4cc6fa-018f-4499-8359-9a527b5cdd7a",
   "metadata": {},
   "outputs": [],
   "source": [
    "compute"
   ]
  },
  {
   "cell_type": "code",
   "execution_count": 114,
   "id": "5a1ac2dd-c988-43de-af51-be3545751dec",
   "metadata": {
    "tags": []
   },
   "outputs": [],
   "source": [
    "a = torch.randn(1,102)"
   ]
  },
  {
   "cell_type": "code",
   "execution_count": 115,
   "id": "566cac91-6282-47a5-bf3e-671eb54b71dd",
   "metadata": {
    "tags": []
   },
   "outputs": [],
   "source": [
    "b = torch.randn(500, 102)"
   ]
  },
  {
   "cell_type": "code",
   "execution_count": 116,
   "id": "243284e6-6f76-48fb-bba1-b883e908b424",
   "metadata": {
    "tags": []
   },
   "outputs": [
    {
     "ename": "RuntimeError",
     "evalue": "mat1 and mat2 shapes cannot be multiplied (1x102 and 500x102)",
     "output_type": "error",
     "traceback": [
      "\u001b[0;31m---------------------------------------------------------------------------\u001b[0m",
      "\u001b[0;31mRuntimeError\u001b[0m                              Traceback (most recent call last)",
      "Cell \u001b[0;32mIn[116], line 1\u001b[0m\n\u001b[0;32m----> 1\u001b[0m \u001b[43ma\u001b[49m\u001b[43m \u001b[49m\u001b[38;5;241;43m@\u001b[39;49m\u001b[43m \u001b[49m\u001b[43mb\u001b[49m\n",
      "\u001b[0;31mRuntimeError\u001b[0m: mat1 and mat2 shapes cannot be multiplied (1x102 and 500x102)"
     ]
    }
   ],
   "source": [
    "a @ b"
   ]
  },
  {
   "cell_type": "code",
   "execution_count": null,
   "id": "09bb8265-02e1-4ebc-9be2-2dd8fa46d00f",
   "metadata": {},
   "outputs": [],
   "source": []
  }
 ],
 "metadata": {
  "kernelspec": {
   "display_name": "Python 3 (ipykernel)",
   "language": "python",
   "name": "python3"
  },
  "language_info": {
   "codemirror_mode": {
    "name": "ipython",
    "version": 3
   },
   "file_extension": ".py",
   "mimetype": "text/x-python",
   "name": "python",
   "nbconvert_exporter": "python",
   "pygments_lexer": "ipython3",
   "version": "3.9.2"
  }
 },
 "nbformat": 4,
 "nbformat_minor": 5
}
