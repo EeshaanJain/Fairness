{
 "cells": [
  {
   "cell_type": "code",
   "execution_count": 1,
   "id": "5a48f1ba-683b-4ba3-9ccd-76fb35c3083f",
   "metadata": {
    "tags": []
   },
   "outputs": [],
   "source": [
    "import torch\n",
    "import numpy as np\n",
    "from scipy.linalg import solve"
   ]
  },
  {
   "cell_type": "markdown",
   "id": "140cb3b0-87ec-4c33-a19c-5d77a6b1653c",
   "metadata": {},
   "source": [
    "### 5000 x 5000 matrix inverse -> torch"
   ]
  },
  {
   "cell_type": "code",
   "execution_count": 15,
   "id": "31efe6ff-e886-4f1c-bbbd-0127a0e15966",
   "metadata": {
    "tags": []
   },
   "outputs": [],
   "source": [
    "def kernel_torch(x_a, x_b):\n",
    "    return x_a @ x_b.t()"
   ]
  },
  {
   "cell_type": "code",
   "execution_count": 82,
   "id": "f289f0cb-c515-40d4-8248-e496881c4b5f",
   "metadata": {
    "tags": []
   },
   "outputs": [],
   "source": [
    "def mean_var_torch(x_, X, Y, noise):\n",
    "    K_XX = kernel_torch(X, X) + noise**2 * torch.eye(X.shape[0]) # 500, 500\n",
    "    print(K_XX.shape)\n",
    "    K_xX = kernel_torch(X, x_) # 1, 500\n",
    "    print(K_xX.shape)\n",
    "    prod = K_xX.t() @ torch.inverse(K_XX) # (1,500) * (500, 500) => (1, 500)\n",
    "    print(prod.shape)\n",
    "    mean = prod @ Y # (1,500) * (500, 1) => (1, 1)\n",
    "    print(mean.shape)\n",
    "    var = kernel_torch(x_, x_) + noise**2 - prod @ K_xX.t() # (1, 1) + (1,1) - (1,500) * (500,1)\n",
    "    return mean, var"
   ]
  },
  {
   "cell_type": "code",
   "execution_count": 83,
   "id": "139e2054-7b8a-452a-8687-ae7b6b311961",
   "metadata": {
    "tags": []
   },
   "outputs": [],
   "source": [
    "x_ = torch.randn(1, 102)\n",
    "X = torch.randn(500, 102)\n",
    "Y = torch.randn(500, 1)"
   ]
  },
  {
   "cell_type": "code",
   "execution_count": 84,
   "id": "478c64b8-7770-4220-b2b5-8cb4f3698437",
   "metadata": {
    "tags": []
   },
   "outputs": [
    {
     "name": "stdout",
     "output_type": "stream",
     "text": [
      "torch.Size([500, 500])\n",
      "torch.Size([1, 500])\n",
      "torch.Size([1, 500])\n",
      "torch.Size([1, 1])\n"
     ]
    }
   ],
   "source": [
    "m, v = mean_var_torch(x_, X, Y, 0.1)"
   ]
  },
  {
   "cell_type": "code",
   "execution_count": 85,
   "id": "ff2cb837-554b-4c3d-bcc4-f543f74f5b76",
   "metadata": {
    "tags": []
   },
   "outputs": [
    {
     "data": {
      "text/plain": [
       "(tensor([[0.6928]]), tensor([[-0.0133]]))"
      ]
     },
     "execution_count": 85,
     "metadata": {},
     "output_type": "execute_result"
    }
   ],
   "source": [
    "m, v"
   ]
  },
  {
   "cell_type": "code",
   "execution_count": null,
   "id": "c7d7e9bc-641e-45b0-8634-616cb38a7d37",
   "metadata": {},
   "outputs": [],
   "source": []
  },
  {
   "cell_type": "code",
   "execution_count": null,
   "id": "d30d2509-e1c9-4477-8c79-807869189836",
   "metadata": {},
   "outputs": [],
   "source": []
  }
 ],
 "metadata": {
  "kernelspec": {
   "display_name": "Python 3 (ipykernel)",
   "language": "python",
   "name": "python3"
  },
  "language_info": {
   "codemirror_mode": {
    "name": "ipython",
    "version": 3
   },
   "file_extension": ".py",
   "mimetype": "text/x-python",
   "name": "python",
   "nbconvert_exporter": "python",
   "pygments_lexer": "ipython3",
   "version": "3.9.2"
  }
 },
 "nbformat": 4,
 "nbformat_minor": 5
}
