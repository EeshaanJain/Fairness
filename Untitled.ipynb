{
 "cells": [
  {
   "cell_type": "code",
   "execution_count": 1,
   "id": "d8aff2fd-6fa8-437e-9225-833568d57234",
   "metadata": {
    "tags": []
   },
   "outputs": [],
   "source": [
    "import torch\n",
    "import numpy as np\n",
    "from scipy.spatial.distance import cdist\n",
    "torch.set_default_tensor_type(torch.DoubleTensor)"
   ]
  },
  {
   "cell_type": "code",
   "execution_count": 2,
   "id": "c81bfda7-86eb-40a4-9287-9e1a6b692819",
   "metadata": {
    "tags": []
   },
   "outputs": [],
   "source": [
    "a = torch.randn(5)"
   ]
  },
  {
   "cell_type": "code",
   "execution_count": 3,
   "id": "e8f2fa6f-704b-4aaa-96ea-b2a7e09ce30c",
   "metadata": {
    "tags": []
   },
   "outputs": [
    {
     "data": {
      "text/plain": [
       "tensor([-0.3545, -0.3756, -0.7376,  0.1699,  1.2142])"
      ]
     },
     "execution_count": 3,
     "metadata": {},
     "output_type": "execute_result"
    }
   ],
   "source": [
    "a"
   ]
  },
  {
   "cell_type": "code",
   "execution_count": 4,
   "id": "5d7d8995-c80d-43cc-84ab-967b94b6ab4c",
   "metadata": {
    "tags": []
   },
   "outputs": [],
   "source": [
    "a[a < 0.5] = 0"
   ]
  },
  {
   "cell_type": "code",
   "execution_count": 5,
   "id": "f938167b-5195-47b1-bbbe-5eb62895a948",
   "metadata": {
    "tags": []
   },
   "outputs": [
    {
     "data": {
      "text/plain": [
       "tensor([0.0000, 0.0000, 0.0000, 0.0000, 1.2142])"
      ]
     },
     "execution_count": 5,
     "metadata": {},
     "output_type": "execute_result"
    }
   ],
   "source": [
    "a"
   ]
  },
  {
   "cell_type": "code",
   "execution_count": 6,
   "id": "fef37caa-5a3b-4916-ac85-ff5850acbdec",
   "metadata": {
    "tags": []
   },
   "outputs": [],
   "source": [
    "a[a >= 0.5] = 1"
   ]
  },
  {
   "cell_type": "code",
   "execution_count": 7,
   "id": "de0f8e55-ad31-4ccb-b8d2-31c68f375699",
   "metadata": {
    "tags": []
   },
   "outputs": [
    {
     "data": {
      "text/plain": [
       "tensor([0., 0., 0., 0., 1.])"
      ]
     },
     "execution_count": 7,
     "metadata": {},
     "output_type": "execute_result"
    }
   ],
   "source": [
    "a"
   ]
  },
  {
   "cell_type": "code",
   "execution_count": 88,
   "id": "6a63edd1-4ede-4d06-8186-9495df010009",
   "metadata": {
    "tags": []
   },
   "outputs": [],
   "source": [
    "X1 = torch.randn(500, 102)\n",
    "y1 = torch.randn(500)"
   ]
  },
  {
   "cell_type": "code",
   "execution_count": 89,
   "id": "6822eba3-1ac4-46c8-ac06-b90d9db26999",
   "metadata": {
    "tags": []
   },
   "outputs": [],
   "source": [
    "X1n = X1.detach().numpy()\n",
    "y1n = y1.detach().numpy()"
   ]
  },
  {
   "cell_type": "code",
   "execution_count": 90,
   "id": "3395d275-54b9-49d3-8b63-c862aa9a96c3",
   "metadata": {
    "tags": []
   },
   "outputs": [],
   "source": [
    "X2 = torch.randn(5, 102)\n",
    "y2 = torch.randn(5)"
   ]
  },
  {
   "cell_type": "code",
   "execution_count": 91,
   "id": "974c8a0b-9750-4112-9bed-75342226bd4b",
   "metadata": {
    "tags": []
   },
   "outputs": [],
   "source": [
    "X2n = X2.detach().numpy()\n",
    "y2n = y2.detach().numpy()"
   ]
  },
  {
   "cell_type": "code",
   "execution_count": 95,
   "id": "658002f0-1845-4c74-b04a-2509877919d4",
   "metadata": {
    "tags": []
   },
   "outputs": [],
   "source": [
    "def kernel1t(X1, X2):\n",
    "    # dot product kernel\n",
    "    # X1 -> (N, D), X2 -> (M, D): returns (N, M)\n",
    "    return X1 @ X2.t()"
   ]
  },
  {
   "cell_type": "code",
   "execution_count": 96,
   "id": "1d650550-ab26-40d8-b6ce-f16a061a388a",
   "metadata": {
    "tags": []
   },
   "outputs": [],
   "source": [
    "def kernel1n(X1n, X2n):\n",
    "    return X1n @ X2n.T"
   ]
  },
  {
   "cell_type": "code",
   "execution_count": 97,
   "id": "cd8b1283-6bc2-4117-902f-d3fbda2513d5",
   "metadata": {
    "tags": []
   },
   "outputs": [
    {
     "data": {
      "text/plain": [
       "tensor([[ -0.6224,  -4.8313, -12.8464,   8.4249,   5.9913],\n",
       "        [ 20.9917,  -9.0462,  -6.0002,  -2.4730, -12.0406],\n",
       "        [  5.2937,  -1.7359,   3.1718, -16.8321,  -0.7918],\n",
       "        ...,\n",
       "        [ -1.8034,  11.4048,   2.9195,  13.0811,   7.9432],\n",
       "        [ -1.0662,   5.3287,   0.4750, -13.1789,  12.7478],\n",
       "        [ 12.8900,  12.0998,  -1.8578,   6.3635, -12.6546]])"
      ]
     },
     "execution_count": 97,
     "metadata": {},
     "output_type": "execute_result"
    }
   ],
   "source": [
    "kernel1t(X1, X2)"
   ]
  },
  {
   "cell_type": "code",
   "execution_count": 98,
   "id": "17e5e6b2-f008-4ad9-80ed-b5cf9b4a3ff9",
   "metadata": {
    "tags": []
   },
   "outputs": [
    {
     "data": {
      "text/plain": [
       "array([[ -0.62243406,  -4.83126826, -12.84643744,   8.42486441,\n",
       "          5.99127566],\n",
       "       [ 20.99165335,  -9.0462134 ,  -6.0001724 ,  -2.47301717,\n",
       "        -12.04057675],\n",
       "       [  5.2936526 ,  -1.73589913,   3.17177135, -16.83214276,\n",
       "         -0.79176071],\n",
       "       ...,\n",
       "       [ -1.80337948,  11.40477094,   2.9195383 ,  13.08105511,\n",
       "          7.94319842],\n",
       "       [ -1.06618407,   5.32868347,   0.47495307, -13.17893826,\n",
       "         12.74783619],\n",
       "       [ 12.89001842,  12.09981391,  -1.85784891,   6.36347897,\n",
       "        -12.65464286]])"
      ]
     },
     "execution_count": 98,
     "metadata": {},
     "output_type": "execute_result"
    }
   ],
   "source": [
    "kernel1n(X1n, X2n)"
   ]
  },
  {
   "cell_type": "code",
   "execution_count": 99,
   "id": "9be88ee7-39f8-4351-b693-7d10312fecd0",
   "metadata": {
    "tags": []
   },
   "outputs": [],
   "source": [
    "def variancet(X1, X2, y1, kernelt=kernel1t, noise=0.1):\n",
    "    # X1 -> (N, D), X2 -> (M, D), y1 -> (N,)\n",
    "    S22 = kernelt(X2, X2) # (M, M)\n",
    "    S12 = kernelt(X1, X2) # (N, M)\n",
    "    S11 = kernelt(X1, X1) # (N, N)\n",
    "    Minv = S12.t() @ torch.inverse(S11 + noise**2 * torch.eye(X1.shape[0])) # (N, N)\n",
    "    mean = Minv @ y1\n",
    "    return mean, S22 - Minv @ S12"
   ]
  },
  {
   "cell_type": "code",
   "execution_count": 100,
   "id": "fc861c58-5050-4005-b020-a0c473c6c117",
   "metadata": {
    "tags": []
   },
   "outputs": [],
   "source": [
    "def variancen(X1n, X2n, y1n, kerneln=kernel1n, noise=0.1):\n",
    "    S22 = kerneln(X2n, X2n)\n",
    "    S12 = kerneln(X1n, X2n)\n",
    "    S11 = kerneln(X1n, X1n)\n",
    "    Minv = S12.T @ np.linalg.inv(S11 + noise**2 * np.eye(X1n.shape[0]))\n",
    "    mean = Minv @ y1n\n",
    "    return mean, S22 - Minv @ S12\n",
    "    "
   ]
  },
  {
   "cell_type": "code",
   "execution_count": 141,
   "id": "1b1a8f3b-74d3-49e0-90e4-46e75ce85d1c",
   "metadata": {
    "tags": []
   },
   "outputs": [
    {
     "data": {
      "text/plain": [
       "tensor([[1.0000e+00, 1.0250e-41, 6.2480e-52,  ..., 6.7908e-47, 3.9186e-53,\n",
       "         7.9647e-49],\n",
       "        [1.0250e-41, 1.0000e+00, 4.3023e-47,  ..., 8.4386e-51, 1.5053e-47,\n",
       "         7.5551e-45],\n",
       "        [6.2480e-52, 4.3023e-47, 1.0000e+00,  ..., 3.5833e-40, 1.1381e-47,\n",
       "         2.3689e-36],\n",
       "        ...,\n",
       "        [6.7908e-47, 8.4386e-51, 3.5833e-40,  ..., 1.0000e+00, 1.5118e-40,\n",
       "         4.8279e-43],\n",
       "        [3.9186e-53, 1.5053e-47, 1.1381e-47,  ..., 1.5118e-40, 1.0000e+00,\n",
       "         1.6732e-38],\n",
       "        [7.9647e-49, 7.5551e-45, 2.3689e-36,  ..., 4.8279e-43, 1.6732e-38,\n",
       "         1.0000e+00]])"
      ]
     },
     "execution_count": 141,
     "metadata": {},
     "output_type": "execute_result"
    }
   ],
   "source": [
    "S11 = kernel2t(X1, X1)\n",
    "S11"
   ]
  },
  {
   "cell_type": "code",
   "execution_count": 142,
   "id": "a9603a80-9cc0-499d-8707-11a711b81959",
   "metadata": {
    "tags": []
   },
   "outputs": [
    {
     "data": {
      "text/plain": [
       "array([[1.00000000e+00, 1.02502594e-41, 6.24804493e-52, ...,\n",
       "        6.79080224e-47, 3.91857612e-53, 7.96468843e-49],\n",
       "       [1.02502594e-41, 1.00000000e+00, 4.30228802e-47, ...,\n",
       "        8.43855890e-51, 1.50527104e-47, 7.55514785e-45],\n",
       "       [6.24804493e-52, 4.30228802e-47, 1.00000000e+00, ...,\n",
       "        3.58329433e-40, 1.13814473e-47, 2.36893885e-36],\n",
       "       ...,\n",
       "       [6.79080224e-47, 8.43855890e-51, 3.58329433e-40, ...,\n",
       "        1.00000000e+00, 1.51177070e-40, 4.82791441e-43],\n",
       "       [3.91857612e-53, 1.50527104e-47, 1.13814473e-47, ...,\n",
       "        1.51177070e-40, 1.00000000e+00, 1.67324585e-38],\n",
       "       [7.96468843e-49, 7.55514785e-45, 2.36893885e-36, ...,\n",
       "        4.82791441e-43, 1.67324585e-38, 1.00000000e+00]])"
      ]
     },
     "execution_count": 142,
     "metadata": {},
     "output_type": "execute_result"
    }
   ],
   "source": [
    "S11n = kernel2n(X1n, X1n)\n",
    "S11n"
   ]
  },
  {
   "cell_type": "code",
   "execution_count": 143,
   "id": "7106f642-3aba-4054-aee2-2540f34fd13b",
   "metadata": {
    "tags": []
   },
   "outputs": [
    {
     "data": {
      "text/plain": [
       "torch.Size([500, 500])"
      ]
     },
     "execution_count": 143,
     "metadata": {},
     "output_type": "execute_result"
    }
   ],
   "source": [
    "S11.shape"
   ]
  },
  {
   "cell_type": "code",
   "execution_count": 144,
   "id": "ac6a2f16-f380-4734-b482-4191e01cee26",
   "metadata": {
    "tags": []
   },
   "outputs": [
    {
     "data": {
      "text/plain": [
       "(500, 500)"
      ]
     },
     "execution_count": 144,
     "metadata": {},
     "output_type": "execute_result"
    }
   ],
   "source": [
    "S11n.shape"
   ]
  },
  {
   "cell_type": "code",
   "execution_count": 145,
   "id": "0d24ccbc-165a-4ca6-b461-d73dcefd52df",
   "metadata": {
    "tags": []
   },
   "outputs": [
    {
     "data": {
      "text/plain": [
       "tensor(1.0000)"
      ]
     },
     "execution_count": 145,
     "metadata": {},
     "output_type": "execute_result"
    }
   ],
   "source": [
    "torch.det(S11)"
   ]
  },
  {
   "cell_type": "code",
   "execution_count": 146,
   "id": "08c2a108-31cb-409b-a84e-93b9c1e19241",
   "metadata": {
    "tags": []
   },
   "outputs": [
    {
     "data": {
      "text/plain": [
       "1.0"
      ]
     },
     "execution_count": 146,
     "metadata": {},
     "output_type": "execute_result"
    }
   ],
   "source": [
    "np.linalg.det(S11n)"
   ]
  },
  {
   "cell_type": "code",
   "execution_count": 148,
   "id": "db8b4627-001b-4a50-85db-a7696785febe",
   "metadata": {
    "tags": []
   },
   "outputs": [
    {
     "data": {
      "text/plain": [
       "tensor([[ 1.0000e+00, -1.0250e-41, -6.2480e-52,  ..., -6.7908e-47,\n",
       "         -3.9186e-53, -7.9647e-49],\n",
       "        [-1.0250e-41,  1.0000e+00, -4.3023e-47,  ..., -8.4386e-51,\n",
       "         -1.5053e-47, -7.5551e-45],\n",
       "        [-6.2480e-52, -4.3023e-47,  1.0000e+00,  ..., -3.5833e-40,\n",
       "         -1.1381e-47, -2.3689e-36],\n",
       "        ...,\n",
       "        [-6.7908e-47, -8.4386e-51, -3.5833e-40,  ...,  1.0000e+00,\n",
       "         -1.5118e-40, -4.8279e-43],\n",
       "        [-3.9186e-53, -1.5053e-47, -1.1381e-47,  ..., -1.5118e-40,\n",
       "          1.0000e+00, -1.6732e-38],\n",
       "        [-7.9647e-49, -7.5551e-45, -2.3689e-36,  ..., -4.8279e-43,\n",
       "         -1.6732e-38,  1.0000e+00]])"
      ]
     },
     "execution_count": 148,
     "metadata": {},
     "output_type": "execute_result"
    }
   ],
   "source": [
    "tt = torch.inverse(S11)\n",
    "tt"
   ]
  },
  {
   "cell_type": "code",
   "execution_count": 149,
   "id": "ecaaf031-f111-4055-bd72-5ad7547e98c5",
   "metadata": {
    "tags": []
   },
   "outputs": [
    {
     "data": {
      "text/plain": [
       "tensor([[ 1.0000e+00, -1.0250e-41, -6.2480e-52,  ..., -6.7908e-47,\n",
       "         -3.9186e-53, -7.9647e-49],\n",
       "        [-1.0250e-41,  1.0000e+00, -4.3023e-47,  ..., -8.4386e-51,\n",
       "         -1.5053e-47, -7.5551e-45],\n",
       "        [-6.2480e-52, -4.3023e-47,  1.0000e+00,  ..., -3.5833e-40,\n",
       "         -1.1381e-47, -2.3689e-36],\n",
       "        ...,\n",
       "        [-6.7908e-47, -8.4386e-51, -3.5833e-40,  ...,  1.0000e+00,\n",
       "         -1.5118e-40, -4.8279e-43],\n",
       "        [-3.9186e-53, -1.5053e-47, -1.1381e-47,  ..., -1.5118e-40,\n",
       "          1.0000e+00, -1.6732e-38],\n",
       "        [-7.9647e-49, -7.5551e-45, -2.3689e-36,  ..., -4.8279e-43,\n",
       "         -1.6732e-38,  1.0000e+00]])"
      ]
     },
     "execution_count": 149,
     "metadata": {},
     "output_type": "execute_result"
    }
   ],
   "source": [
    "nn = np.linalg.inv(S11n)\n",
    "tt"
   ]
  },
  {
   "cell_type": "code",
   "execution_count": 101,
   "id": "79256d6c-2049-4a98-87aa-cebd46f10596",
   "metadata": {
    "tags": []
   },
   "outputs": [
    {
     "data": {
      "text/plain": [
       "(tensor([14.2376, 23.0631,  5.9760,  6.3224, 10.1160]),\n",
       " tensor([[-387.8624, -510.0256,   25.1844,  -33.3430,   29.8580],\n",
       "         [   9.3301, -210.3519,  272.6162, -103.2641,   47.5960],\n",
       "         [ 298.9937,   38.3649,  107.7974,  203.1443,   58.8387],\n",
       "         [-133.8511, -211.0471,  204.8112, -244.6050, -390.1335],\n",
       "         [ -35.2161,  268.2843,   17.4521,  233.2458,  228.2304]]))"
      ]
     },
     "execution_count": 101,
     "metadata": {},
     "output_type": "execute_result"
    }
   ],
   "source": [
    "variancet(X1, X2, y1, noise=0)"
   ]
  },
  {
   "cell_type": "code",
   "execution_count": 103,
   "id": "b1fd2e12-6be0-499b-a487-e2c2b8ec84c4",
   "metadata": {
    "tags": []
   },
   "outputs": [
    {
     "data": {
      "text/plain": [
       "(array([  9.1003879 ,  38.16679369, -25.26661031, -68.59584873,\n",
       "         -5.44678168]),\n",
       " array([[-177.6850261 ,  -63.64331193,  761.47954805, -269.2714061 ,\n",
       "         -372.50532666],\n",
       "        [ 203.50859642,  147.00861394,  100.08362963, -104.2306066 ,\n",
       "         -265.62864226],\n",
       "        [ -12.24612603, -306.77002879,  435.33824249,  -71.52479604,\n",
       "          -39.1633522 ],\n",
       "        [-240.88395461,  660.79336904,  -49.52081718,  448.40813853,\n",
       "            3.791964  ],\n",
       "        [   6.44079896,  -31.73137457,  -64.67607655, -104.38995554,\n",
       "           97.05866148]]))"
      ]
     },
     "execution_count": 103,
     "metadata": {},
     "output_type": "execute_result"
    }
   ],
   "source": [
    "variancen(X1n, X2n, y1n, noise=0)"
   ]
  },
  {
   "cell_type": "code",
   "execution_count": 79,
   "id": "0c57d054-bfb3-47e0-a84b-9f5e5c5ecc11",
   "metadata": {
    "tags": []
   },
   "outputs": [],
   "source": [
    "def kernel2t(X1, X2, var=1):\n",
    "    val = -0.5 * torch.cdist(X1, X2) ** 2\n",
    "    return torch.exp(val / var)"
   ]
  },
  {
   "cell_type": "code",
   "execution_count": 80,
   "id": "edd63cf5-0f40-4df1-a20c-faf1bd906693",
   "metadata": {
    "tags": []
   },
   "outputs": [],
   "source": [
    "def kernel2n(X1n, X2n, var=1):\n",
    "    val = -0.5 * cdist(X1n, X2n, 'sqeuclidean')\n",
    "    return np.exp(val / var)"
   ]
  },
  {
   "cell_type": "code",
   "execution_count": 81,
   "id": "1ec35081-7639-4b7e-ba93-70d64c30d520",
   "metadata": {
    "tags": []
   },
   "outputs": [
    {
     "data": {
      "text/plain": [
       "torch.Size([500, 5])"
      ]
     },
     "execution_count": 81,
     "metadata": {},
     "output_type": "execute_result"
    }
   ],
   "source": [
    "kernel2t(X1, X2).shape"
   ]
  },
  {
   "cell_type": "code",
   "execution_count": 82,
   "id": "1c936524-b1a7-498d-903a-db2580406a5a",
   "metadata": {
    "tags": []
   },
   "outputs": [
    {
     "data": {
      "text/plain": [
       "(500, 5)"
      ]
     },
     "execution_count": 82,
     "metadata": {},
     "output_type": "execute_result"
    }
   ],
   "source": [
    "kernel2n(X1n, X2n).shape"
   ]
  },
  {
   "cell_type": "code",
   "execution_count": 83,
   "id": "b7714564-fed4-44f8-84dc-249fec3c55f7",
   "metadata": {
    "tags": []
   },
   "outputs": [
    {
     "data": {
      "text/plain": [
       "(tensor([-1.0297e-28,  1.4820e-30, -1.6790e-31,  2.8566e-33,  1.6499e-31]),\n",
       " tensor([[1.0000e+00, 1.8873e-34, 7.7968e-49, 7.3022e-42, 8.6915e-45],\n",
       "         [1.8873e-34, 1.0000e+00, 2.0371e-55, 8.7149e-48, 1.0960e-45],\n",
       "         [7.7968e-49, 2.0371e-55, 1.0000e+00, 3.7038e-50, 7.1674e-47],\n",
       "         [7.3022e-42, 8.7149e-48, 3.7038e-50, 1.0000e+00, 4.7124e-49],\n",
       "         [8.6915e-45, 1.0960e-45, 7.1674e-47, 4.7124e-49, 1.0000e+00]]))"
      ]
     },
     "execution_count": 83,
     "metadata": {},
     "output_type": "execute_result"
    }
   ],
   "source": [
    "variancet(X1, X2, y1, kernel2t)"
   ]
  },
  {
   "cell_type": "code",
   "execution_count": 84,
   "id": "6db385f5-bb0a-4f06-ab27-29940e90de7d",
   "metadata": {
    "tags": []
   },
   "outputs": [
    {
     "data": {
      "text/plain": [
       "(array([-1.02972627e-28,  1.48195160e-30, -1.67898981e-31,  2.85657670e-33,\n",
       "         1.64987826e-31]),\n",
       " array([[1.00000000e+00, 1.88725127e-34, 7.79680461e-49, 7.30224084e-42,\n",
       "         8.69149596e-45],\n",
       "        [1.88725127e-34, 1.00000000e+00, 2.03710744e-55, 8.71487043e-48,\n",
       "         1.09596604e-45],\n",
       "        [7.79680461e-49, 2.03710744e-55, 1.00000000e+00, 3.70376436e-50,\n",
       "         7.16738458e-47],\n",
       "        [7.30224084e-42, 8.71487043e-48, 3.70376436e-50, 1.00000000e+00,\n",
       "         4.71236112e-49],\n",
       "        [8.69149596e-45, 1.09596604e-45, 7.16738458e-47, 4.71236112e-49,\n",
       "         1.00000000e+00]]))"
      ]
     },
     "execution_count": 84,
     "metadata": {},
     "output_type": "execute_result"
    }
   ],
   "source": [
    "variancen(X1n, X2n, y1n, kernel2n)"
   ]
  },
  {
   "cell_type": "code",
   "execution_count": 69,
   "id": "76d9effa-7a52-465a-be2d-3a9992414cca",
   "metadata": {
    "tags": []
   },
   "outputs": [
    {
     "data": {
      "text/plain": [
       "(500, 102)"
      ]
     },
     "execution_count": 69,
     "metadata": {},
     "output_type": "execute_result"
    }
   ],
   "source": [
    "X1n.shape"
   ]
  },
  {
   "cell_type": "code",
   "execution_count": 70,
   "id": "f5211a2c-4165-49a6-82a3-c910184551e6",
   "metadata": {
    "tags": []
   },
   "outputs": [
    {
     "data": {
      "text/plain": [
       "(500, 5)"
      ]
     },
     "execution_count": 70,
     "metadata": {},
     "output_type": "execute_result"
    }
   ],
   "source": [
    "kernel2n(X1n, X1n).shape"
   ]
  },
  {
   "cell_type": "code",
   "execution_count": null,
   "id": "e8337db8-7f22-4883-8dba-aca62b234ead",
   "metadata": {},
   "outputs": [],
   "source": []
  }
 ],
 "metadata": {
  "kernelspec": {
   "display_name": "Python 3 (ipykernel)",
   "language": "python",
   "name": "python3"
  },
  "language_info": {
   "codemirror_mode": {
    "name": "ipython",
    "version": 3
   },
   "file_extension": ".py",
   "mimetype": "text/x-python",
   "name": "python",
   "nbconvert_exporter": "python",
   "pygments_lexer": "ipython3",
   "version": "3.8.10"
  }
 },
 "nbformat": 4,
 "nbformat_minor": 5
}
